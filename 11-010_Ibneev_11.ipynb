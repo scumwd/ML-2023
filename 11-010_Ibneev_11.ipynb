{
 "cells": [
  {
   "cell_type": "code",
   "execution_count": 2,
   "id": "53d2e6de",
   "metadata": {},
   "outputs": [],
   "source": [
    "from tensorflow.keras.models import Sequential # НС прямого распространения\n",
    "from tensorflow.keras.layers import Dense, Activation, Dropout, BatchNormalization # Основные слои\n",
    "from tensorflow.keras import utils # Утилиты для to_categorical\n",
    "from tensorflow.keras.preprocessing import image # Для отрисовки изображения\n",
    "from tensorflow.keras.optimizers import Adam, Adadelta # Алгоритмы оптимизации, для настройки скорости обучения\n",
    "import numpy as np # Библиотека работы с массивами\n",
    "import matplotlib.pyplot as plt # Отрисовка изображений\n",
    "from PIL import Image # Отрисовка изображений\n",
    "import pandas as pd # Библиотека pandas\n",
    "from sklearn.preprocessing import LabelEncoder, StandardScaler # Функции для нормализации данных\n",
    "from sklearn import preprocessing # Пакет предварительной обработки данных\n",
    "from sklearn.model_selection import train_test_split\n",
    "from tensorflow.keras import metrics\n",
    "\n",
    "# Отрисовывать изображения в ноутбуке, а не в консоль или файл\n",
    "%matplotlib inline"
   ]
  },
  {
   "cell_type": "code",
   "execution_count": 3,
   "id": "77bf52c4",
   "metadata": {},
   "outputs": [
    {
     "data": {
      "text/html": [
       "<div>\n",
       "<style scoped>\n",
       "    .dataframe tbody tr th:only-of-type {\n",
       "        vertical-align: middle;\n",
       "    }\n",
       "\n",
       "    .dataframe tbody tr th {\n",
       "        vertical-align: top;\n",
       "    }\n",
       "\n",
       "    .dataframe thead th {\n",
       "        text-align: right;\n",
       "    }\n",
       "</style>\n",
       "<table border=\"1\" class=\"dataframe\">\n",
       "  <thead>\n",
       "    <tr style=\"text-align: right;\">\n",
       "      <th></th>\n",
       "      <th>mark</th>\n",
       "      <th>model</th>\n",
       "      <th>price</th>\n",
       "      <th>year</th>\n",
       "      <th>mileage</th>\n",
       "      <th>body</th>\n",
       "      <th>kpp</th>\n",
       "      <th>fuel</th>\n",
       "      <th>volume</th>\n",
       "      <th>power</th>\n",
       "    </tr>\n",
       "  </thead>\n",
       "  <tbody>\n",
       "    <tr>\n",
       "      <th>0</th>\n",
       "      <td>kia</td>\n",
       "      <td>cerato</td>\n",
       "      <td>996000</td>\n",
       "      <td>2018</td>\n",
       "      <td>28000</td>\n",
       "      <td>седан</td>\n",
       "      <td>автомат</td>\n",
       "      <td>бензин</td>\n",
       "      <td>2.0</td>\n",
       "      <td>150.0</td>\n",
       "    </tr>\n",
       "    <tr>\n",
       "      <th>1</th>\n",
       "      <td>daewoo</td>\n",
       "      <td>nexia 1 поколение [2-й рестайлинг]</td>\n",
       "      <td>140200</td>\n",
       "      <td>2012</td>\n",
       "      <td>60500</td>\n",
       "      <td>седан</td>\n",
       "      <td>механика</td>\n",
       "      <td>бензин</td>\n",
       "      <td>1.5</td>\n",
       "      <td>80.0</td>\n",
       "    </tr>\n",
       "    <tr>\n",
       "      <th>2</th>\n",
       "      <td>suzuki</td>\n",
       "      <td>jimny 3 поколение [рестайлинг]</td>\n",
       "      <td>750000</td>\n",
       "      <td>2011</td>\n",
       "      <td>29000</td>\n",
       "      <td>внедорожник</td>\n",
       "      <td>автомат</td>\n",
       "      <td>бензин</td>\n",
       "      <td>1.3</td>\n",
       "      <td>85.0</td>\n",
       "    </tr>\n",
       "    <tr>\n",
       "      <th>3</th>\n",
       "      <td>bmw</td>\n",
       "      <td>x1 18 e84 [рестайлинг]</td>\n",
       "      <td>970000</td>\n",
       "      <td>2014</td>\n",
       "      <td>49500</td>\n",
       "      <td>кроссовер</td>\n",
       "      <td>автомат</td>\n",
       "      <td>бензин</td>\n",
       "      <td>2.0</td>\n",
       "      <td>150.0</td>\n",
       "    </tr>\n",
       "    <tr>\n",
       "      <th>4</th>\n",
       "      <td>chevrolet</td>\n",
       "      <td>lacetti 1 поколение</td>\n",
       "      <td>205000</td>\n",
       "      <td>2007</td>\n",
       "      <td>151445</td>\n",
       "      <td>седан</td>\n",
       "      <td>механика</td>\n",
       "      <td>бензин</td>\n",
       "      <td>1.4</td>\n",
       "      <td>95.0</td>\n",
       "    </tr>\n",
       "  </tbody>\n",
       "</table>\n",
       "</div>"
      ],
      "text/plain": [
       "        mark                               model   price  year  mileage  \\\n",
       "0        kia                              cerato  996000  2018    28000   \n",
       "1     daewoo  nexia 1 поколение [2-й рестайлинг]  140200  2012    60500   \n",
       "2     suzuki      jimny 3 поколение [рестайлинг]  750000  2011    29000   \n",
       "3        bmw              x1 18 e84 [рестайлинг]  970000  2014    49500   \n",
       "4  chevrolet                 lacetti 1 поколение  205000  2007   151445   \n",
       "\n",
       "          body       kpp    fuel  volume  power  \n",
       "0        седан   автомат  бензин     2.0  150.0  \n",
       "1        седан  механика  бензин     1.5   80.0  \n",
       "2  внедорожник   автомат  бензин     1.3   85.0  \n",
       "3    кроссовер   автомат  бензин     2.0  150.0  \n",
       "4        седан  механика  бензин     1.4   95.0  "
      ]
     },
     "execution_count": 3,
     "metadata": {},
     "output_type": "execute_result"
    }
   ],
   "source": [
    "cars = pd.read_csv('cars_new.csv', sep=',')\n",
    "cars.head()"
   ]
  },
  {
   "cell_type": "code",
   "execution_count": 4,
   "id": "be91b9bf",
   "metadata": {},
   "outputs": [
    {
     "name": "stdout",
     "output_type": "stream",
     "text": [
      "(70119, 10)\n"
     ]
    }
   ],
   "source": [
    "print(cars.values.shape)"
   ]
  },
  {
   "cell_type": "code",
   "execution_count": 5,
   "id": "364e67c4",
   "metadata": {},
   "outputs": [],
   "source": [
    "# Создаём словарь поле - его индекс\n",
    "def create_dict(s):\n",
    "  ret = {}                          # Создаём пустой словарь\n",
    "  for _id, name in enumerate(s):    # Проходим по всем парам - id и название\n",
    "    ret.update({name: _id})         # Добавляем в словарь\n",
    "  return ret\n",
    "\n",
    "# Функция преобразования в one hot encoding\n",
    "def to_ohe(value, d):\n",
    "  arr = [0] * len(d)\n",
    "  arr[d[value]] = 1\n",
    "  return arr"
   ]
  },
  {
   "cell_type": "code",
   "execution_count": 6,
   "id": "eefa6c6e",
   "metadata": {},
   "outputs": [],
   "source": [
    "# Создаём словари по всем текстовым колонкам\n",
    "marks_dict = create_dict(set(cars['mark']))\n",
    "models_dict = create_dict(set(cars['model']))\n",
    "bodies_dict = create_dict(set(cars['body']))\n",
    "kpps_dict = create_dict(set(cars['kpp']))\n",
    "fuels_dict = create_dict(set(cars['fuel']))\n",
    "\n",
    "# Запоминаем цены\n",
    "prices = np.array(cars['price'], dtype=float)\n",
    "\n",
    "# Запоминаем числовые параметры\n",
    "# и нормируем\n",
    "years = preprocessing.scale(cars['year'])\n",
    "mileages = preprocessing.scale(cars['mileage'])\n",
    "volumes = preprocessing.scale(cars['volume'])\n",
    "powers = preprocessing.scale(cars['power'])"
   ]
  },
  {
   "cell_type": "code",
   "execution_count": 7,
   "id": "dcdf45e9",
   "metadata": {},
   "outputs": [
    {
     "name": "stdout",
     "output_type": "stream",
     "text": [
      "{'гибрид': 0, 'дизель': 1, 'газ': 2, 'бензин': 3, 'электро': 4}\n"
     ]
    }
   ],
   "source": [
    "print(fuels_dict)"
   ]
  },
  {
   "cell_type": "code",
   "execution_count": 8,
   "id": "04473bef",
   "metadata": {},
   "outputs": [
    {
     "data": {
      "text/plain": [
       "1.2879530757014324e-16"
      ]
     },
     "execution_count": 8,
     "metadata": {},
     "output_type": "execute_result"
    }
   ],
   "source": [
    "volumes.mean()"
   ]
  },
  {
   "cell_type": "code",
   "execution_count": 9,
   "id": "25337e98",
   "metadata": {},
   "outputs": [
    {
     "data": {
      "text/plain": [
       "1.0"
      ]
     },
     "execution_count": 9,
     "metadata": {},
     "output_type": "execute_result"
    }
   ],
   "source": [
    "volumes.std()"
   ]
  },
  {
   "cell_type": "code",
   "execution_count": 10,
   "id": "a2185d65",
   "metadata": {},
   "outputs": [
    {
     "name": "stdout",
     "output_type": "stream",
     "text": [
      "[ 0.22905575 -0.95630346 -0.87163494 ...  0.22905575 -0.75309902\n",
      "  2.34576862]\n"
     ]
    }
   ],
   "source": [
    "print(powers)"
   ]
  },
  {
   "cell_type": "code",
   "execution_count": 11,
   "id": "72a118d2",
   "metadata": {},
   "outputs": [],
   "source": [
    "# Создаём пустую обучающую выборку\n",
    "x_train = []\n",
    "y_train = []\n",
    "\n",
    "# Проходам по всем машинам\n",
    "for _id, car in enumerate(np.array(cars)):\n",
    "  # В y_train добавляем цену\n",
    "  y_train.append(prices[_id])\n",
    "\n",
    "  # В x_train объединяем все параметры\n",
    "  # Категорийные параметры добавляем в виде ohe\n",
    "  # Числовые параметры добавляем напрямую\n",
    "  x_tr = to_ohe(car[0], marks_dict) + \\\n",
    "        to_ohe(car[1], models_dict) + \\\n",
    "        to_ohe(car[5], bodies_dict) + \\\n",
    "        to_ohe(car[6], kpps_dict) + \\\n",
    "        to_ohe(car[7], fuels_dict) + \\\n",
    "        [years[_id]] + \\\n",
    "        [mileages[_id]] + \\\n",
    "        [volumes[_id]] + \\\n",
    "        [powers[_id]]\n",
    "\n",
    "  # Добавляем текущую строку в общий x_train\n",
    "  x_train.append(x_tr)\n",
    "\n",
    "# Превращаем лист в numpy.array\n",
    "x_train = np.array(x_train, dtype=float)\n",
    "y_train = np.array(y_train, dtype=float)"
   ]
  },
  {
   "cell_type": "code",
   "execution_count": 12,
   "id": "690da974",
   "metadata": {},
   "outputs": [
    {
     "name": "stdout",
     "output_type": "stream",
     "text": [
      "(70119, 3208)\n",
      "(70119,)\n"
     ]
    }
   ],
   "source": [
    "# Выводим размеры выборок\n",
    "print(x_train.shape)\n",
    "print(y_train.shape)"
   ]
  },
  {
   "cell_type": "code",
   "execution_count": 13,
   "id": "8eedd58a",
   "metadata": {},
   "outputs": [
    {
     "name": "stdout",
     "output_type": "stream",
     "text": [
      "[0. 0. 0. 0. 0. 0. 0. 0. 0. 0. 0. 0. 0. 0. 0. 0. 0. 0. 0. 1.]\n",
      "[ 0.          0.          0.          0.          0.          0.\n",
      "  1.          0.          0.          0.          0.          0.\n",
      "  0.          0.          1.          0.          1.5200145  -1.40018212\n",
      "  0.12288486  0.22905575]\n"
     ]
    }
   ],
   "source": [
    "# Выводим один x_train\n",
    "print(x_train[0,:20])\n",
    "print(x_train[0,-20:])"
   ]
  },
  {
   "cell_type": "code",
   "execution_count": 14,
   "id": "6ad6132f",
   "metadata": {},
   "outputs": [
    {
     "name": "stdout",
     "output_type": "stream",
     "text": [
      "[ 996000.  140200.  750000.  970000.  205000.  985000.  589000.  500000.\n",
      " 1320000.  270000.]\n"
     ]
    }
   ],
   "source": [
    "# Выводим y_train\n",
    "print(y_train[:10])"
   ]
  },
  {
   "cell_type": "code",
   "execution_count": 15,
   "id": "4c573842",
   "metadata": {},
   "outputs": [
    {
     "data": {
      "text/plain": [
       "(70119,)"
      ]
     },
     "execution_count": 15,
     "metadata": {},
     "output_type": "execute_result"
    }
   ],
   "source": [
    "y_train.shape"
   ]
  },
  {
   "cell_type": "code",
   "execution_count": 16,
   "id": "e8e08dd9",
   "metadata": {},
   "outputs": [
    {
     "data": {
      "text/plain": [
       "(70119, 1)"
      ]
     },
     "execution_count": 16,
     "metadata": {},
     "output_type": "execute_result"
    }
   ],
   "source": [
    "y_train.reshape(-1,1).shape"
   ]
  },
  {
   "cell_type": "code",
   "execution_count": 17,
   "id": "d40b6571",
   "metadata": {},
   "outputs": [],
   "source": [
    "# Нормализуем y_train\n",
    "y_scaler = StandardScaler()\n",
    "y_train_scaled = y_scaler.fit_transform(y_train.reshape(-1,1)).flatten()\n",
    "\n",
    "# y_train.reshape(-1,1) добавляет одну размерность\n",
    "# Это нужно потому, что y_scaler.fit_transform\n",
    "# Требует двумерны вектор, массив примеров, которые надо нормализовать\n",
    "# Он не умеет работать с одним примеров\n",
    "# Поэтому мы делаем массив из одного примера\n",
    "# На выходе он так же выдаёт массив примеров\n",
    "# Но нам нужен только первый пример\n",
    "# Поэтому мы делаем flatten() - уменьшение размерности"
   ]
  },
  {
   "cell_type": "code",
   "execution_count": 18,
   "id": "f978fab3",
   "metadata": {},
   "outputs": [
    {
     "data": {
      "text/plain": [
       "(70119,)"
      ]
     },
     "execution_count": 18,
     "metadata": {},
     "output_type": "execute_result"
    }
   ],
   "source": [
    "y_train_scaled.shape"
   ]
  },
  {
   "cell_type": "code",
   "execution_count": 19,
   "id": "1503955a",
   "metadata": {},
   "outputs": [
    {
     "name": "stdout",
     "output_type": "stream",
     "text": [
      "[ 996000.  140200.  750000.  970000.  205000.  985000.  589000.  500000.\n",
      " 1320000.  270000.]\n",
      "[ 0.75082432 -0.62135434  0.3563911   0.70913625 -0.51745486  0.73318706\n",
      "  0.09824578 -0.04445567  1.27032173 -0.4132347 ]\n"
     ]
    }
   ],
   "source": [
    "# Выводим базовый и нормированный y_train\n",
    "print(y_train[:10])\n",
    "print(y_train_scaled[:10])"
   ]
  },
  {
   "cell_type": "code",
   "execution_count": 20,
   "id": "c3e89584",
   "metadata": {},
   "outputs": [],
   "source": [
    "X_train, x_test, Y_train, y_test = train_test_split(x_train, y_train_scaled, test_size=1/3, shuffle=True)"
   ]
  },
  {
   "cell_type": "code",
   "execution_count": 21,
   "id": "cb2674a0",
   "metadata": {},
   "outputs": [
    {
     "name": "stdout",
     "output_type": "stream",
     "text": [
      "Epoch 1/100\n",
      "3896/3896 [==============================] - 7s 2ms/step - loss: 0.1781 - r2_score: 0.7228 - val_loss: 0.1450 - val_r2_score: 0.8608\n",
      "Epoch 2/100\n",
      "3896/3896 [==============================] - 7s 2ms/step - loss: 0.1504 - r2_score: 0.7889 - val_loss: 0.1322 - val_r2_score: 0.8767\n",
      "Epoch 3/100\n",
      "3896/3896 [==============================] - 9s 2ms/step - loss: 0.1433 - r2_score: 0.8111 - val_loss: 0.1323 - val_r2_score: 0.8826\n",
      "Epoch 4/100\n",
      "3896/3896 [==============================] - 8s 2ms/step - loss: 0.1384 - r2_score: 0.8265 - val_loss: 0.1182 - val_r2_score: 0.8938\n",
      "Epoch 5/100\n",
      "3896/3896 [==============================] - 7s 2ms/step - loss: 0.1378 - r2_score: 0.8282 - val_loss: 0.1200 - val_r2_score: 0.9028\n",
      "Epoch 6/100\n",
      "3896/3896 [==============================] - 6s 2ms/step - loss: 0.1344 - r2_score: 0.8420 - val_loss: 0.1178 - val_r2_score: 0.9036\n",
      "Epoch 7/100\n",
      "3896/3896 [==============================] - 7s 2ms/step - loss: 0.1323 - r2_score: 0.8420 - val_loss: 0.1137 - val_r2_score: 0.9030\n",
      "Epoch 8/100\n",
      "3896/3896 [==============================] - 7s 2ms/step - loss: 0.1309 - r2_score: 0.8398 - val_loss: 0.1165 - val_r2_score: 0.9104\n",
      "Epoch 9/100\n",
      "3896/3896 [==============================] - 6s 2ms/step - loss: 0.1286 - r2_score: 0.8424 - val_loss: 0.1158 - val_r2_score: 0.9116\n",
      "Epoch 10/100\n",
      "3896/3896 [==============================] - 7s 2ms/step - loss: 0.1279 - r2_score: 0.8622 - val_loss: 0.1258 - val_r2_score: 0.9057\n",
      "Epoch 11/100\n",
      "3896/3896 [==============================] - 6s 2ms/step - loss: 0.1277 - r2_score: 0.8562 - val_loss: 0.1416 - val_r2_score: 0.8925\n",
      "Epoch 12/100\n",
      "3896/3896 [==============================] - 6s 1ms/step - loss: 0.1279 - r2_score: 0.8623 - val_loss: 0.1183 - val_r2_score: 0.9158\n",
      "Epoch 13/100\n",
      "3896/3896 [==============================] - 6s 2ms/step - loss: 0.1259 - r2_score: 0.8658 - val_loss: 0.1153 - val_r2_score: 0.9110\n",
      "Epoch 14/100\n",
      "3896/3896 [==============================] - 6s 2ms/step - loss: 0.1275 - r2_score: 0.8593 - val_loss: 0.1115 - val_r2_score: 0.9204\n",
      "Epoch 15/100\n",
      "3896/3896 [==============================] - 7s 2ms/step - loss: 0.1252 - r2_score: 0.8712 - val_loss: 0.1297 - val_r2_score: 0.9150\n",
      "Epoch 16/100\n",
      "3896/3896 [==============================] - 6s 1ms/step - loss: 0.1242 - r2_score: 0.8692 - val_loss: 0.1265 - val_r2_score: 0.8815\n",
      "Epoch 17/100\n",
      "3896/3896 [==============================] - 6s 1ms/step - loss: 0.1246 - r2_score: 0.8810 - val_loss: 0.1130 - val_r2_score: 0.9160\n",
      "Epoch 18/100\n",
      "3896/3896 [==============================] - 6s 2ms/step - loss: 0.1239 - r2_score: 0.8791 - val_loss: 0.1225 - val_r2_score: 0.9192\n",
      "Epoch 19/100\n",
      "3896/3896 [==============================] - 6s 2ms/step - loss: 0.1241 - r2_score: 0.8773 - val_loss: 0.1212 - val_r2_score: 0.9245\n",
      "Epoch 20/100\n",
      "3896/3896 [==============================] - 6s 2ms/step - loss: 0.1226 - r2_score: 0.8787 - val_loss: 0.1123 - val_r2_score: 0.9217\n",
      "Epoch 21/100\n",
      "3896/3896 [==============================] - 7s 2ms/step - loss: 0.1226 - r2_score: 0.8885 - val_loss: 0.1237 - val_r2_score: 0.9212\n",
      "Epoch 22/100\n",
      "3896/3896 [==============================] - 6s 2ms/step - loss: 0.1216 - r2_score: 0.8880 - val_loss: 0.1303 - val_r2_score: 0.9236\n",
      "Epoch 23/100\n",
      "3896/3896 [==============================] - 6s 2ms/step - loss: 0.1213 - r2_score: 0.8848 - val_loss: 0.1168 - val_r2_score: 0.9146\n",
      "Epoch 24/100\n",
      "3896/3896 [==============================] - 6s 2ms/step - loss: 0.1224 - r2_score: 0.8869 - val_loss: 0.1200 - val_r2_score: 0.9274\n",
      "Epoch 25/100\n",
      "3896/3896 [==============================] - 7s 2ms/step - loss: 0.1216 - r2_score: 0.8790 - val_loss: 0.1178 - val_r2_score: 0.9207\n",
      "Epoch 26/100\n",
      "3896/3896 [==============================] - 7s 2ms/step - loss: 0.1202 - r2_score: 0.8964 - val_loss: 0.1184 - val_r2_score: 0.9311\n",
      "Epoch 27/100\n",
      "3896/3896 [==============================] - 6s 2ms/step - loss: 0.1201 - r2_score: 0.8968 - val_loss: 0.1100 - val_r2_score: 0.9332\n",
      "Epoch 28/100\n",
      "3896/3896 [==============================] - 7s 2ms/step - loss: 0.1200 - r2_score: 0.8982 - val_loss: 0.1131 - val_r2_score: 0.9301\n",
      "Epoch 29/100\n",
      "3896/3896 [==============================] - 7s 2ms/step - loss: 0.1200 - r2_score: 0.8949 - val_loss: 0.1193 - val_r2_score: 0.9194\n",
      "Epoch 30/100\n",
      "3896/3896 [==============================] - 6s 2ms/step - loss: 0.1185 - r2_score: 0.9021 - val_loss: 0.1169 - val_r2_score: 0.9275\n",
      "Epoch 31/100\n",
      "3896/3896 [==============================] - 6s 2ms/step - loss: 0.1192 - r2_score: 0.9113 - val_loss: 0.1297 - val_r2_score: 0.8938\n",
      "Epoch 32/100\n",
      "3896/3896 [==============================] - 7s 2ms/step - loss: 0.1197 - r2_score: 0.9032 - val_loss: 0.1108 - val_r2_score: 0.9293\n",
      "Epoch 33/100\n",
      "3896/3896 [==============================] - 7s 2ms/step - loss: 0.1199 - r2_score: 0.9074 - val_loss: 0.1166 - val_r2_score: 0.9272\n",
      "Epoch 34/100\n",
      "3896/3896 [==============================] - 8s 2ms/step - loss: 0.1202 - r2_score: 0.8985 - val_loss: 0.1195 - val_r2_score: 0.9152\n",
      "Epoch 35/100\n",
      "3896/3896 [==============================] - 7s 2ms/step - loss: 0.1195 - r2_score: 0.9045 - val_loss: 0.1119 - val_r2_score: 0.9305\n",
      "Epoch 36/100\n",
      "3896/3896 [==============================] - 7s 2ms/step - loss: 0.1185 - r2_score: 0.9145 - val_loss: 0.1217 - val_r2_score: 0.9224\n",
      "Epoch 37/100\n",
      "3896/3896 [==============================] - 7s 2ms/step - loss: 0.1188 - r2_score: 0.9044 - val_loss: 0.1201 - val_r2_score: 0.9224\n",
      "Epoch 38/100\n",
      "3896/3896 [==============================] - 8s 2ms/step - loss: 0.1178 - r2_score: 0.9094 - val_loss: 0.1186 - val_r2_score: 0.9325\n",
      "Epoch 39/100\n",
      "3896/3896 [==============================] - 7s 2ms/step - loss: 0.1183 - r2_score: 0.9014 - val_loss: 0.1133 - val_r2_score: 0.9300\n",
      "Epoch 40/100\n",
      "3896/3896 [==============================] - 7s 2ms/step - loss: 0.1170 - r2_score: 0.9161 - val_loss: 0.1191 - val_r2_score: 0.9267\n",
      "Epoch 41/100\n",
      "3896/3896 [==============================] - 6s 2ms/step - loss: 0.1181 - r2_score: 0.9041 - val_loss: 0.1140 - val_r2_score: 0.9252\n",
      "Epoch 42/100\n",
      "3896/3896 [==============================] - 7s 2ms/step - loss: 0.1168 - r2_score: 0.9171 - val_loss: 0.1154 - val_r2_score: 0.9282\n",
      "Epoch 43/100\n",
      "3896/3896 [==============================] - 6s 2ms/step - loss: 0.1182 - r2_score: 0.9145 - val_loss: 0.1174 - val_r2_score: 0.9207\n",
      "Epoch 44/100\n",
      "3896/3896 [==============================] - 7s 2ms/step - loss: 0.1170 - r2_score: 0.9141 - val_loss: 0.1401 - val_r2_score: 0.8924\n",
      "Epoch 45/100\n",
      "3896/3896 [==============================] - 7s 2ms/step - loss: 0.1173 - r2_score: 0.9190 - val_loss: 0.1158 - val_r2_score: 0.9239\n",
      "Epoch 46/100\n",
      "3896/3896 [==============================] - 7s 2ms/step - loss: 0.1179 - r2_score: 0.9286 - val_loss: 0.1159 - val_r2_score: 0.9125\n",
      "Epoch 47/100\n",
      "3896/3896 [==============================] - 8s 2ms/step - loss: 0.1179 - r2_score: 0.9134 - val_loss: 0.1176 - val_r2_score: 0.9337\n",
      "Epoch 48/100\n",
      "3896/3896 [==============================] - 8s 2ms/step - loss: 0.1171 - r2_score: 0.9176 - val_loss: 0.1171 - val_r2_score: 0.9285\n",
      "Epoch 49/100\n",
      "3896/3896 [==============================] - 7s 2ms/step - loss: 0.1161 - r2_score: 0.9203 - val_loss: 0.1133 - val_r2_score: 0.9357\n",
      "Epoch 50/100\n",
      "3896/3896 [==============================] - 8s 2ms/step - loss: 0.1157 - r2_score: 0.9174 - val_loss: 0.1128 - val_r2_score: 0.9342\n",
      "Epoch 51/100\n",
      "3896/3896 [==============================] - 7s 2ms/step - loss: 0.1171 - r2_score: 0.9148 - val_loss: 0.1239 - val_r2_score: 0.9192\n",
      "Epoch 52/100\n",
      "3896/3896 [==============================] - 6s 2ms/step - loss: 0.1177 - r2_score: 0.9207 - val_loss: 0.1273 - val_r2_score: 0.8994\n",
      "Epoch 53/100\n",
      "3896/3896 [==============================] - 7s 2ms/step - loss: 0.1169 - r2_score: 0.9179 - val_loss: 0.1198 - val_r2_score: 0.9302\n",
      "Epoch 54/100\n",
      "3896/3896 [==============================] - 7s 2ms/step - loss: 0.1162 - r2_score: 0.9158 - val_loss: 0.1230 - val_r2_score: 0.9092\n",
      "Epoch 55/100\n",
      "3896/3896 [==============================] - 8s 2ms/step - loss: 0.1163 - r2_score: 0.9275 - val_loss: 0.1316 - val_r2_score: 0.8833\n",
      "Epoch 56/100\n",
      "3896/3896 [==============================] - 9s 2ms/step - loss: 0.1158 - r2_score: 0.9116 - val_loss: 0.1158 - val_r2_score: 0.9249\n",
      "Epoch 57/100\n",
      "3896/3896 [==============================] - 10s 2ms/step - loss: 0.1157 - r2_score: 0.9151 - val_loss: 0.1215 - val_r2_score: 0.9176\n",
      "Epoch 58/100\n",
      "3896/3896 [==============================] - 7s 2ms/step - loss: 0.1165 - r2_score: 0.9210 - val_loss: 0.1182 - val_r2_score: 0.9216\n",
      "Epoch 59/100\n",
      "3896/3896 [==============================] - 7s 2ms/step - loss: 0.1157 - r2_score: 0.9122 - val_loss: 0.1256 - val_r2_score: 0.9010\n",
      "Epoch 60/100\n",
      "3896/3896 [==============================] - 8s 2ms/step - loss: 0.1159 - r2_score: 0.9335 - val_loss: 0.1176 - val_r2_score: 0.9222\n",
      "Epoch 61/100\n",
      "3896/3896 [==============================] - 7s 2ms/step - loss: 0.1158 - r2_score: 0.9129 - val_loss: 0.1178 - val_r2_score: 0.9222\n",
      "Epoch 62/100\n",
      "3896/3896 [==============================] - 8s 2ms/step - loss: 0.1149 - r2_score: 0.9289 - val_loss: 0.1339 - val_r2_score: 0.9160\n",
      "Epoch 63/100\n",
      "3896/3896 [==============================] - 7s 2ms/step - loss: 0.1160 - r2_score: 0.9141 - val_loss: 0.1342 - val_r2_score: 0.8953\n",
      "Epoch 64/100\n",
      "3896/3896 [==============================] - 7s 2ms/step - loss: 0.1158 - r2_score: 0.9172 - val_loss: 0.1252 - val_r2_score: 0.9096\n",
      "Epoch 65/100\n",
      "3896/3896 [==============================] - 6s 2ms/step - loss: 0.1149 - r2_score: 0.9166 - val_loss: 0.1117 - val_r2_score: 0.9308\n",
      "Epoch 66/100\n",
      "3896/3896 [==============================] - 7s 2ms/step - loss: 0.1148 - r2_score: 0.9280 - val_loss: 0.1206 - val_r2_score: 0.9283\n",
      "Epoch 67/100\n",
      "3896/3896 [==============================] - 8s 2ms/step - loss: 0.1148 - r2_score: 0.9193 - val_loss: 0.1148 - val_r2_score: 0.9279\n",
      "Epoch 68/100\n",
      "3896/3896 [==============================] - 7s 2ms/step - loss: 0.1143 - r2_score: 0.9182 - val_loss: 0.1269 - val_r2_score: 0.9215\n",
      "Epoch 69/100\n",
      "3896/3896 [==============================] - 7s 2ms/step - loss: 0.1152 - r2_score: 0.9362 - val_loss: 0.1162 - val_r2_score: 0.9169\n",
      "Epoch 70/100\n",
      "3896/3896 [==============================] - 7s 2ms/step - loss: 0.1147 - r2_score: 0.9168 - val_loss: 0.1185 - val_r2_score: 0.9262\n",
      "Epoch 71/100\n",
      "3896/3896 [==============================] - 7s 2ms/step - loss: 0.1151 - r2_score: 0.9275 - val_loss: 0.1372 - val_r2_score: 0.9016\n",
      "Epoch 72/100\n",
      "3896/3896 [==============================] - 8s 2ms/step - loss: 0.1140 - r2_score: 0.9376 - val_loss: 0.1290 - val_r2_score: 0.9019\n",
      "Epoch 73/100\n",
      "3896/3896 [==============================] - 8s 2ms/step - loss: 0.1136 - r2_score: 0.9362 - val_loss: 0.1171 - val_r2_score: 0.9284\n",
      "Epoch 74/100\n",
      "3896/3896 [==============================] - 6s 2ms/step - loss: 0.1147 - r2_score: 0.9223 - val_loss: 0.1269 - val_r2_score: 0.9133\n",
      "Epoch 75/100\n",
      "3896/3896 [==============================] - 7s 2ms/step - loss: 0.1144 - r2_score: 0.9228 - val_loss: 0.1135 - val_r2_score: 0.9206\n",
      "Epoch 76/100\n",
      "3896/3896 [==============================] - 8s 2ms/step - loss: 0.1146 - r2_score: 0.9231 - val_loss: 0.1430 - val_r2_score: 0.8998\n",
      "Epoch 77/100\n",
      "3896/3896 [==============================] - 9s 2ms/step - loss: 0.1144 - r2_score: 0.9160 - val_loss: 0.1230 - val_r2_score: 0.9119\n",
      "Epoch 78/100\n",
      "3896/3896 [==============================] - 7s 2ms/step - loss: 0.1143 - r2_score: 0.9277 - val_loss: 0.1158 - val_r2_score: 0.9250\n",
      "Epoch 79/100\n",
      "3896/3896 [==============================] - 8s 2ms/step - loss: 0.1137 - r2_score: 0.9272 - val_loss: 0.1232 - val_r2_score: 0.9051\n",
      "Epoch 80/100\n",
      "3896/3896 [==============================] - 7s 2ms/step - loss: 0.1126 - r2_score: 0.9329 - val_loss: 0.1228 - val_r2_score: 0.9130\n",
      "Epoch 81/100\n",
      "3896/3896 [==============================] - 8s 2ms/step - loss: 0.1129 - r2_score: 0.9355 - val_loss: 0.1167 - val_r2_score: 0.9276\n",
      "Epoch 82/100\n",
      "3896/3896 [==============================] - 7s 2ms/step - loss: 0.1120 - r2_score: 0.9351 - val_loss: 0.1393 - val_r2_score: 0.8885\n",
      "Epoch 83/100\n",
      "3896/3896 [==============================] - 7s 2ms/step - loss: 0.1119 - r2_score: 0.9344 - val_loss: 0.1246 - val_r2_score: 0.9182\n",
      "Epoch 84/100\n",
      "3896/3896 [==============================] - 7s 2ms/step - loss: 0.1128 - r2_score: 0.9366 - val_loss: 0.1251 - val_r2_score: 0.9144\n",
      "Epoch 85/100\n",
      "3896/3896 [==============================] - 7s 2ms/step - loss: 0.1139 - r2_score: 0.9349 - val_loss: 0.1281 - val_r2_score: 0.9102\n",
      "Epoch 86/100\n",
      "3896/3896 [==============================] - 7s 2ms/step - loss: 0.1122 - r2_score: 0.9319 - val_loss: 0.1235 - val_r2_score: 0.9075\n",
      "Epoch 87/100\n",
      "3896/3896 [==============================] - 7s 2ms/step - loss: 0.1149 - r2_score: 0.9189 - val_loss: 0.1134 - val_r2_score: 0.9221\n",
      "Epoch 88/100\n",
      "3896/3896 [==============================] - 7s 2ms/step - loss: 0.1138 - r2_score: 0.9273 - val_loss: 0.1181 - val_r2_score: 0.9096\n",
      "Epoch 89/100\n",
      "3896/3896 [==============================] - 7s 2ms/step - loss: 0.1121 - r2_score: 0.9397 - val_loss: 0.1359 - val_r2_score: 0.9040\n",
      "Epoch 90/100\n",
      "3896/3896 [==============================] - 7s 2ms/step - loss: 0.1137 - r2_score: 0.9394 - val_loss: 0.1257 - val_r2_score: 0.9123\n",
      "Epoch 91/100\n",
      "3896/3896 [==============================] - 7s 2ms/step - loss: 0.1134 - r2_score: 0.9293 - val_loss: 0.1248 - val_r2_score: 0.9204\n",
      "Epoch 92/100\n",
      "3896/3896 [==============================] - 7s 2ms/step - loss: 0.1122 - r2_score: 0.9282 - val_loss: 0.1147 - val_r2_score: 0.9252\n",
      "Epoch 93/100\n",
      "3896/3896 [==============================] - 7s 2ms/step - loss: 0.1130 - r2_score: 0.9264 - val_loss: 0.1298 - val_r2_score: 0.9036\n",
      "Epoch 94/100\n",
      "3896/3896 [==============================] - 7s 2ms/step - loss: 0.1117 - r2_score: 0.9374 - val_loss: 0.1193 - val_r2_score: 0.9213\n",
      "Epoch 95/100\n",
      "3896/3896 [==============================] - 7s 2ms/step - loss: 0.1119 - r2_score: 0.9354 - val_loss: 0.1204 - val_r2_score: 0.9220\n",
      "Epoch 96/100\n",
      "3896/3896 [==============================] - 7s 2ms/step - loss: 0.1120 - r2_score: 0.9354 - val_loss: 0.1175 - val_r2_score: 0.9202\n",
      "Epoch 97/100\n",
      "3896/3896 [==============================] - 7s 2ms/step - loss: 0.1116 - r2_score: 0.9435 - val_loss: 0.1260 - val_r2_score: 0.9103\n",
      "Epoch 98/100\n",
      "3896/3896 [==============================] - 7s 2ms/step - loss: 0.1132 - r2_score: 0.9381 - val_loss: 0.1183 - val_r2_score: 0.9154\n",
      "Epoch 99/100\n",
      "3896/3896 [==============================] - 7s 2ms/step - loss: 0.1124 - r2_score: 0.9404 - val_loss: 0.1269 - val_r2_score: 0.9061\n",
      "Epoch 100/100\n",
      "3896/3896 [==============================] - 7s 2ms/step - loss: 0.1129 - r2_score: 0.9371 - val_loss: 0.1192 - val_r2_score: 0.9092\n",
      "731/731 [==============================] - 1s 823us/step\n"
     ]
    }
   ],
   "source": [
    "model_ula = Sequential([\n",
    "  Dense(128, activation='relu', input_shape=(x_train.shape[1],)),\n",
    "  Dropout(0.3),\n",
    "  Dense(64, activation='relu'),\n",
    "  Dropout(0.2),\n",
    "  Dense(1, activation='linear')\n",
    "])\n",
    "\n",
    "model_ula.compile(\n",
    "  optimizer='adam',\n",
    "  loss='mae',\n",
    "  metrics=[metrics.R2Score()]\n",
    ")\n",
    "\n",
    "history = model_ula.fit(\n",
    "    X_train,\n",
    "    Y_train,\n",
    "    batch_size=8,\n",
    "    epochs=100,\n",
    "    validation_split=1/3,\n",
    "    verbose=1\n",
    ")\n",
    "\n",
    "predict = model_ula.predict(x_test)\n"
   ]
  },
  {
   "cell_type": "code",
   "execution_count": 22,
   "id": "e677342a",
   "metadata": {},
   "outputs": [
    {
     "data": {
      "text/plain": [
       "dict_keys(['loss', 'r2_score', 'val_loss', 'val_r2_score'])"
      ]
     },
     "execution_count": 22,
     "metadata": {},
     "output_type": "execute_result"
    }
   ],
   "source": [
    "history.history.keys()"
   ]
  },
  {
   "cell_type": "code",
   "execution_count": 23,
   "id": "eb407c58",
   "metadata": {},
   "outputs": [
    {
     "data": {
      "image/png": "[encoded data removed]",
      "text/plain": [
       "<Figure size 640x480 with 1 Axes>"
      ]
     },
     "metadata": {},
     "output_type": "display_data"
    }
   ],
   "source": [
    "plt.plot(history.history['r2_score'], label='val_r2_score')\n",
    "plt.legend(['r2_score'])\n",
    "plt.show()"
   ]
  },
  {
   "cell_type": "code",
   "execution_count": 25,
   "id": "b392a975",
   "metadata": {},
   "outputs": [
    {
     "data": {
      "image/png": "[encoded data removed]",
      "text/plain": [
       "<Figure size 640x480 with 1 Axes>"
      ]
     },
     "metadata": {},
     "output_type": "display_data"
    }
   ],
   "source": [
    "plt.plot(history.history['loss'], label='Ошибка обучающий')\n",
    "plt.plot(history.history['val_loss'], label='Ошибка проверочный')\n",
    "plt.xlabel('Обучение')\n",
    "plt.ylabel('Эпоха')\n",
    "plt.legend()\n",
    "plt.show()"
   ]
  },
  {
   "cell_type": "code",
   "execution_count": null,
   "id": "9a050001",
   "metadata": {},
   "outputs": [],
   "source": []
  }
 ],
 "metadata": {
  "kernelspec": {
   "display_name": "Python 3 (ipykernel)",
   "language": "python",
   "name": "python3"
  },
  "language_info": {
   "codemirror_mode": {
    "name": "ipython",
    "version": 3
   },
   "file_extension": ".py",
   "mimetype": "text/x-python",
   "name": "python",
   "nbconvert_exporter": "python",
   "pygments_lexer": "ipython3",
   "version": "3.11.3"
  }
 },
 "nbformat": 4,
 "nbformat_minor": 5
}
