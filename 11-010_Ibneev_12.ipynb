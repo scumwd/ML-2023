{
 "cells": [
  {
   "cell_type": "code",
   "execution_count": 3,
   "id": "c8ce9b94",
   "metadata": {},
   "outputs": [
    {
     "name": "stdout",
     "output_type": "stream",
     "text": [
      "Collecting keras-tuner\n",
      "  Downloading keras_tuner-1.4.6-py3-none-any.whl (128 kB)\n",
      "\u001b[2K     \u001b[90m━━━━━━━━━━━━━━━━━━━━━━━━━━━━━━━━━━━━━\u001b[0m \u001b[32m128.9/128.9 kB\u001b[0m \u001b[31m230.1 kB/s\u001b[0m eta \u001b[36m0:00:00\u001b[0ma \u001b[36m0:00:01\u001b[0m\n",
      "\u001b[?25hRequirement already satisfied: keras in /opt/homebrew/lib/python3.11/site-packages (from keras-tuner) (2.15.0)\n",
      "Requirement already satisfied: packaging in /opt/homebrew/lib/python3.11/site-packages (from keras-tuner) (23.1)\n",
      "Requirement already satisfied: requests in /opt/homebrew/lib/python3.11/site-packages (from keras-tuner) (2.31.0)\n",
      "Collecting kt-legacy\n",
      "  Downloading kt_legacy-1.0.5-py3-none-any.whl (9.6 kB)\n",
      "Requirement already satisfied: charset-normalizer<4,>=2 in /opt/homebrew/lib/python3.11/site-packages (from requests->keras-tuner) (3.2.0)\n",
      "Requirement already satisfied: idna<4,>=2.5 in /opt/homebrew/lib/python3.11/site-packages (from requests->keras-tuner) (3.4)\n",
      "Requirement already satisfied: urllib3<3,>=1.21.1 in /opt/homebrew/lib/python3.11/site-packages (from requests->keras-tuner) (2.0.4)\n",
      "Requirement already satisfied: certifi>=2017.4.17 in /opt/homebrew/lib/python3.11/site-packages (from requests->keras-tuner) (2023.7.22)\n",
      "Installing collected packages: kt-legacy, keras-tuner\n",
      "Successfully installed keras-tuner-1.4.6 kt-legacy-1.0.5\n",
      "\n",
      "\u001b[1m[\u001b[0m\u001b[34;49mnotice\u001b[0m\u001b[1;39;49m]\u001b[0m\u001b[39;49m A new release of pip is available: \u001b[0m\u001b[31;49m23.0.1\u001b[0m\u001b[39;49m -> \u001b[0m\u001b[32;49m23.3.1\u001b[0m\n",
      "\u001b[1m[\u001b[0m\u001b[34;49mnotice\u001b[0m\u001b[1;39;49m]\u001b[0m\u001b[39;49m To update, run: \u001b[0m\u001b[32;49mpython3.11 -m pip install --upgrade pip\u001b[0m\n",
      "Note: you may need to restart the kernel to use updated packages.\n"
     ]
    }
   ],
   "source": [
    "pip install keras-tuner"
   ]
  },
  {
   "cell_type": "code",
   "execution_count": 29,
   "id": "53797d52",
   "metadata": {},
   "outputs": [],
   "source": [
    "from tensorflow.keras.datasets import mnist #Загружаем базу mnist\n",
    "from tensorflow.keras.datasets import cifar10 #Загружаем базу cifar10\n",
    "from tensorflow.keras.datasets import cifar100 #Загружаем базу cifar100\n",
    "\n",
    "from tensorflow.keras.models import Sequential #Сеть прямого распространения\n",
    "#Базовые слои для счёрточных сетей\n",
    "from tensorflow.keras.layers import Dense, Conv2D, MaxPooling2D, Flatten, Dropout, BatchNormalization, Rescaling\n",
    "from tensorflow.keras.preprocessing.image import ImageDataGenerator # работа с изображениями\n",
    "from tensorflow.keras.optimizers import Adam, Adadelta # оптимизаторы\n",
    "from tensorflow.keras import utils #Используем дял to_categoricall\n",
    "from tensorflow.keras.preprocessing import image #Для отрисовки изображений\n",
    "from sklearn.model_selection import train_test_split\n",
    "import numpy as np #Библиотека работы с массивами\n",
    "import matplotlib.pyplot as plt #Для отрисовки графиков\n",
    "from PIL import Image #Для отрисовки изображений\n",
    "import keras_tuner as kt\n",
    "import random #Для генерации случайных чисел\n",
    "import math # Для округления\n",
    "import os #Для работы с файлами\n",
    "\n",
    "%matplotlib inline"
   ]
  },
  {
   "cell_type": "code",
   "execution_count": 11,
   "id": "293c422e",
   "metadata": {},
   "outputs": [],
   "source": [
    "(x_train, y_train), (x_test, y_test) = cifar10.load_data()\n",
    "x, y = np.concatenate([x_train, x_test]), np.concatenate([y_train, y_test])\n",
    "\n",
    "x = x / 255\n",
    "y = utils.to_categorical(y, 10)\n",
    "\n",
    "x_train, x_test, y_train, y_test = train_test_split(x, y, test_size=0.2, random_state=42, shuffle=True)"
   ]
  },
  {
   "cell_type": "code",
   "execution_count": 14,
   "id": "c001f4cc",
   "metadata": {},
   "outputs": [
    {
     "name": "stdout",
     "output_type": "stream",
     "text": [
      "Epoch 1/20\n",
      "375/375 [==============================] - 128s 340ms/step - loss: 1.3786 - accuracy: 0.4984 - val_loss: 2.1525 - val_accuracy: 0.2806\n",
      "Epoch 2/20\n",
      "375/375 [==============================] - 128s 342ms/step - loss: 0.8916 - accuracy: 0.6853 - val_loss: 0.8990 - val_accuracy: 0.6886\n",
      "Epoch 3/20\n",
      "375/375 [==============================] - 128s 342ms/step - loss: 0.6974 - accuracy: 0.7529 - val_loss: 0.8540 - val_accuracy: 0.7206\n",
      "Epoch 4/20\n",
      "375/375 [==============================] - 128s 341ms/step - loss: 0.5791 - accuracy: 0.7965 - val_loss: 0.6335 - val_accuracy: 0.7862\n",
      "Epoch 5/20\n",
      "375/375 [==============================] - 137s 366ms/step - loss: 0.4876 - accuracy: 0.8282 - val_loss: 0.6624 - val_accuracy: 0.7784\n",
      "Epoch 6/20\n",
      "375/375 [==============================] - 168s 448ms/step - loss: 0.4265 - accuracy: 0.8484 - val_loss: 0.6519 - val_accuracy: 0.7825\n",
      "Epoch 7/20\n",
      "375/375 [==============================] - 152s 407ms/step - loss: 0.3752 - accuracy: 0.8683 - val_loss: 0.6332 - val_accuracy: 0.7968\n",
      "Epoch 8/20\n",
      "375/375 [==============================] - 122s 325ms/step - loss: 0.3312 - accuracy: 0.8826 - val_loss: 0.6625 - val_accuracy: 0.7912\n",
      "Epoch 9/20\n",
      "375/375 [==============================] - 122s 325ms/step - loss: 0.2960 - accuracy: 0.8949 - val_loss: 0.7087 - val_accuracy: 0.7950\n",
      "Epoch 10/20\n",
      "375/375 [==============================] - 122s 325ms/step - loss: 0.2649 - accuracy: 0.9059 - val_loss: 0.8307 - val_accuracy: 0.7583\n",
      "Epoch 11/20\n",
      "375/375 [==============================] - 122s 325ms/step - loss: 0.2448 - accuracy: 0.9143 - val_loss: 0.6472 - val_accuracy: 0.8090\n",
      "Epoch 12/20\n",
      "375/375 [==============================] - 123s 327ms/step - loss: 0.2247 - accuracy: 0.9203 - val_loss: 0.7065 - val_accuracy: 0.8038\n",
      "Epoch 13/20\n",
      "375/375 [==============================] - 123s 328ms/step - loss: 0.2133 - accuracy: 0.9240 - val_loss: 0.7292 - val_accuracy: 0.8008\n",
      "Epoch 14/20\n",
      "375/375 [==============================] - 123s 327ms/step - loss: 0.1957 - accuracy: 0.9311 - val_loss: 0.7080 - val_accuracy: 0.8056\n",
      "Epoch 15/20\n",
      "375/375 [==============================] - 126s 336ms/step - loss: 0.1877 - accuracy: 0.9341 - val_loss: 0.7089 - val_accuracy: 0.8119\n",
      "Epoch 16/20\n",
      "375/375 [==============================] - 130s 348ms/step - loss: 0.1782 - accuracy: 0.9379 - val_loss: 0.7127 - val_accuracy: 0.8098\n",
      "Epoch 17/20\n",
      "375/375 [==============================] - 131s 349ms/step - loss: 0.1688 - accuracy: 0.9421 - val_loss: 0.7677 - val_accuracy: 0.8043\n",
      "Epoch 18/20\n",
      "375/375 [==============================] - 131s 349ms/step - loss: 0.1553 - accuracy: 0.9448 - val_loss: 0.7889 - val_accuracy: 0.7943\n",
      "Epoch 19/20\n",
      "375/375 [==============================] - 132s 352ms/step - loss: 0.1515 - accuracy: 0.9480 - val_loss: 0.7913 - val_accuracy: 0.8113\n",
      "Epoch 20/20\n",
      "375/375 [==============================] - 134s 357ms/step - loss: 0.1454 - accuracy: 0.9504 - val_loss: 0.7297 - val_accuracy: 0.8133\n"
     ]
    }
   ],
   "source": [
    "model = Sequential([\n",
    "    Conv2D(32, (3, 3), padding='same', activation='silu'),\n",
    "    Conv2D(32, (3, 3), padding='same', activation='silu'),\n",
    "    MaxPooling2D(pool_size=(2, 2)),\n",
    "    Dropout(0.2),\n",
    "\n",
    "    BatchNormalization(),\n",
    "    Conv2D(64, (3, 3), padding='same', activation='silu'),\n",
    "    Conv2D(64, (3, 3), padding='same', activation='silu'),\n",
    "    MaxPooling2D(pool_size=(2, 2)),\n",
    "\n",
    "    Dropout(0.2),\n",
    "    Conv2D(128, (3, 3), padding='same', activation='silu'),\n",
    "    Conv2D(128, (3, 3), padding='same', activation='silu'),\n",
    "    MaxPooling2D(pool_size=(2, 2), padding='same'),\n",
    "\n",
    "    Dropout(0.2),\n",
    "\n",
    "    Flatten(),\n",
    "    Dense(256, activation='relu'),\n",
    "    Dense(128, activation='relu'),\n",
    "    Dense(64, activation='relu'),\n",
    "    Dense(10, activation='softmax'),\n",
    "])\n",
    "\n",
    "model.compile(loss=\"categorical_crossentropy\", optimizer=\"adam\", metrics=[\"accuracy\"])\n",
    "\n",
    "history = model.fit(x_train, y_train, verbose=True, epochs=20, batch_size=128, validation_data=(x_test, y_test))"
   ]
  },
  {
   "cell_type": "code",
   "execution_count": 15,
   "id": "6d593c88",
   "metadata": {},
   "outputs": [
    {
     "data": {
      "image/png": "[encoded data removed]",
      "text/plain": [
       "<Figure size 640x480 with 1 Axes>"
      ]
     },
     "metadata": {},
     "output_type": "display_data"
    }
   ],
   "source": [
    "plt.plot(history.history['accuracy'], label='Обучающий')\n",
    "plt.plot(history.history['val_accuracy'], label='Проверочный')\n",
    "plt.legend()\n",
    "plt.show()"
   ]
  },
  {
   "cell_type": "code",
   "execution_count": 21,
   "id": "606ee699",
   "metadata": {},
   "outputs": [
    {
     "name": "stdout",
     "output_type": "stream",
     "text": [
      "Found 2743 files belonging to 3 classes.\n",
      "Using 2195 files for training.\n",
      "Found 684 files belonging to 3 classes.\n",
      "Using 136 files for validation.\n"
     ]
    }
   ],
   "source": [
    "batch_size = 32\n",
    "\n",
    "train: tf.data.Dataset = utils.image_dataset_from_directory(\n",
    "    directory='Автомобили/train',\n",
    "    validation_split=0.2,\n",
    "    subset='training',\n",
    "    seed=123,\n",
    "    batch_size=batch_size,\n",
    "    image_size=(256, 256),\n",
    "    label_mode='categorical'\n",
    ")\n",
    "val: tf.data.Dataset = utils.image_dataset_from_directory(\n",
    "    directory='Автомобили/val',\n",
    "    validation_split=0.2,\n",
    "    subset='validation',\n",
    "    seed=123,\n",
    "    batch_size=batch_size,\n",
    "    image_size=(256, 256),\n",
    "    label_mode='categorical'\n",
    ")\n",
    "\n",
    "AUTOTUNE = tf.data.AUTOTUNE\n",
    "\n",
    "train = train.cache().prefetch(buffer_size=AUTOTUNE)\n",
    "val = val.cache().prefetch(buffer_size=AUTOTUNE)"
   ]
  },
  {
   "cell_type": "code",
   "execution_count": 27,
   "id": "06f29665",
   "metadata": {},
   "outputs": [],
   "source": [
    "!rm -r proj"
   ]
  },
  {
   "cell_type": "code",
   "execution_count": 30,
   "id": "037ca92a",
   "metadata": {},
   "outputs": [
    {
     "name": "stdout",
     "output_type": "stream",
     "text": [
      "Trial 5 Complete [00h 08m 26s]\n",
      "val_accuracy: 0.5220588445663452\n",
      "\n",
      "Best val_accuracy So Far: 0.5220588445663452\n",
      "Total elapsed time: 01h 03m 16s\n",
      "5/5 [==============================] - 2s 279ms/step - loss: 17.7802 - accuracy: 0.5221\n",
      "Точность на тестовых: 0.5220588445663452\n"
     ]
    }
   ],
   "source": [
    "def create_model(hp: kt.engine.hyperparameters.HyperParameters):\n",
    "    conv_filters = hp.Int('conv2d_filters', min_value=32, max_value=64, step=32)\n",
    "    dense_size = hp.Int('dense_size', min_value=64, max_value=192, step=64)\n",
    "    model = keras.Sequential([\n",
    "        Rescaling(1 / .255),\n",
    "\n",
    "        BatchNormalization(),\n",
    "        Conv2D(conv_filters, 3, activation='relu'),\n",
    "        MaxPooling2D(pool_size=(2, 2)),\n",
    "\n",
    "        Dropout(0.2),\n",
    "        BatchNormalization(),\n",
    "        Conv2D(conv_filters * 2, 3, activation='silu'),\n",
    "        MaxPooling2D(pool_size=(2, 2)),\n",
    "\n",
    "        Dropout(0.2),\n",
    "        Flatten(),\n",
    "        Dense(dense_size, activation='relu'),\n",
    "        Dense(dense_size // 2, activation='relu'),\n",
    "        Dense(3, activation='softmax'),\n",
    "    ])\n",
    "\n",
    "    model.compile(optimizer='adam', loss='categorical_crossentropy', metrics=['accuracy'])\n",
    "\n",
    "    return model\n",
    "\n",
    "tuner = kt.RandomSearch(\n",
    "    hypermodel=create_model,\n",
    "    objective='val_accuracy',\n",
    "    max_trials=5,\n",
    "    project_name='proj'\n",
    ")\n",
    "\n",
    "with tf.device('/device:GPU:0'):\n",
    "  tuner.search(train, validation_data=val, epochs=5)\n",
    "\n",
    "best_model = tuner.get_best_models()[0]\n",
    "score = best_model.evaluate(val)\n",
    "print(f'Точность на тестовых: {score[1]}')"
   ]
  }
 ],
 "metadata": {
  "kernelspec": {
   "display_name": "Python 3 (ipykernel)",
   "language": "python",
   "name": "python3"
  },
  "language_info": {
   "codemirror_mode": {
    "name": "ipython",
    "version": 3
   },
   "file_extension": ".py",
   "mimetype": "text/x-python",
   "name": "python",
   "nbconvert_exporter": "python",
   "pygments_lexer": "ipython3",
   "version": "3.11.3"
  }
 },
 "nbformat": 4,
 "nbformat_minor": 5
}
