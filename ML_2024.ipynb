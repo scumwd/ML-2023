{
 "cells": [
  {
   "cell_type": "code",
   "execution_count": 25,
   "id": "8e5199c3",
   "metadata": {},
   "outputs": [],
   "source": [
    "import pandas as pd\n",
    "from sklearn.feature_extraction.text import CountVectorizer, TfidfVectorizer\n",
    "from gensim.models import Word2Vec, FastText\n",
    "from sklearn.metrics.pairwise import cosine_similarity"
   ]
  },
  {
   "cell_type": "code",
   "execution_count": 26,
   "id": "04f02be7",
   "metadata": {},
   "outputs": [
    {
     "data": {
      "text/html": [
       "<div>\n",
       "<style scoped>\n",
       "    .dataframe tbody tr th:only-of-type {\n",
       "        vertical-align: middle;\n",
       "    }\n",
       "\n",
       "    .dataframe tbody tr th {\n",
       "        vertical-align: top;\n",
       "    }\n",
       "\n",
       "    .dataframe thead th {\n",
       "        text-align: right;\n",
       "    }\n",
       "</style>\n",
       "<table border=\"1\" class=\"dataframe\">\n",
       "  <thead>\n",
       "    <tr style=\"text-align: right;\">\n",
       "      <th></th>\n",
       "      <th>Release Year</th>\n",
       "      <th>Title</th>\n",
       "      <th>Origin/Ethnicity</th>\n",
       "      <th>Director</th>\n",
       "      <th>Cast</th>\n",
       "      <th>Genre</th>\n",
       "      <th>Wiki Page</th>\n",
       "      <th>Plot</th>\n",
       "    </tr>\n",
       "  </thead>\n",
       "  <tbody>\n",
       "    <tr>\n",
       "      <th>0</th>\n",
       "      <td>1901</td>\n",
       "      <td>Kansas Saloon Smashers</td>\n",
       "      <td>American</td>\n",
       "      <td>Unknown</td>\n",
       "      <td>NaN</td>\n",
       "      <td>unknown</td>\n",
       "      <td>https://en.wikipedia.org/wiki/Kansas_Saloon_Sm...</td>\n",
       "      <td>A bartender is working at a saloon, serving dr...</td>\n",
       "    </tr>\n",
       "    <tr>\n",
       "      <th>1</th>\n",
       "      <td>1901</td>\n",
       "      <td>Love by the Light of the Moon</td>\n",
       "      <td>American</td>\n",
       "      <td>Unknown</td>\n",
       "      <td>NaN</td>\n",
       "      <td>unknown</td>\n",
       "      <td>https://en.wikipedia.org/wiki/Love_by_the_Ligh...</td>\n",
       "      <td>The moon, painted with a smiling face hangs ov...</td>\n",
       "    </tr>\n",
       "    <tr>\n",
       "      <th>2</th>\n",
       "      <td>1901</td>\n",
       "      <td>The Martyred Presidents</td>\n",
       "      <td>American</td>\n",
       "      <td>Unknown</td>\n",
       "      <td>NaN</td>\n",
       "      <td>unknown</td>\n",
       "      <td>https://en.wikipedia.org/wiki/The_Martyred_Pre...</td>\n",
       "      <td>The film, just over a minute long, is composed...</td>\n",
       "    </tr>\n",
       "    <tr>\n",
       "      <th>3</th>\n",
       "      <td>1901</td>\n",
       "      <td>Terrible Teddy, the Grizzly King</td>\n",
       "      <td>American</td>\n",
       "      <td>Unknown</td>\n",
       "      <td>NaN</td>\n",
       "      <td>unknown</td>\n",
       "      <td>https://en.wikipedia.org/wiki/Terrible_Teddy,_...</td>\n",
       "      <td>Lasting just 61 seconds and consisting of two ...</td>\n",
       "    </tr>\n",
       "    <tr>\n",
       "      <th>4</th>\n",
       "      <td>1902</td>\n",
       "      <td>Jack and the Beanstalk</td>\n",
       "      <td>American</td>\n",
       "      <td>George S. Fleming, Edwin S. Porter</td>\n",
       "      <td>NaN</td>\n",
       "      <td>unknown</td>\n",
       "      <td>https://en.wikipedia.org/wiki/Jack_and_the_Bea...</td>\n",
       "      <td>The earliest known adaptation of the classic f...</td>\n",
       "    </tr>\n",
       "  </tbody>\n",
       "</table>\n",
       "</div>"
      ],
      "text/plain": [
       "   Release Year                             Title Origin/Ethnicity  \\\n",
       "0          1901            Kansas Saloon Smashers         American   \n",
       "1          1901     Love by the Light of the Moon         American   \n",
       "2          1901           The Martyred Presidents         American   \n",
       "3          1901  Terrible Teddy, the Grizzly King         American   \n",
       "4          1902            Jack and the Beanstalk         American   \n",
       "\n",
       "                             Director Cast    Genre  \\\n",
       "0                             Unknown  NaN  unknown   \n",
       "1                             Unknown  NaN  unknown   \n",
       "2                             Unknown  NaN  unknown   \n",
       "3                             Unknown  NaN  unknown   \n",
       "4  George S. Fleming, Edwin S. Porter  NaN  unknown   \n",
       "\n",
       "                                           Wiki Page  \\\n",
       "0  https://en.wikipedia.org/wiki/Kansas_Saloon_Sm...   \n",
       "1  https://en.wikipedia.org/wiki/Love_by_the_Ligh...   \n",
       "2  https://en.wikipedia.org/wiki/The_Martyred_Pre...   \n",
       "3  https://en.wikipedia.org/wiki/Terrible_Teddy,_...   \n",
       "4  https://en.wikipedia.org/wiki/Jack_and_the_Bea...   \n",
       "\n",
       "                                                Plot  \n",
       "0  A bartender is working at a saloon, serving dr...  \n",
       "1  The moon, painted with a smiling face hangs ov...  \n",
       "2  The film, just over a minute long, is composed...  \n",
       "3  Lasting just 61 seconds and consisting of two ...  \n",
       "4  The earliest known adaptation of the classic f...  "
      ]
     },
     "execution_count": 26,
     "metadata": {},
     "output_type": "execute_result"
    }
   ],
   "source": [
    "data = pd.read_csv(\"movie.csv\")\n",
    "data.head()"
   ]
  },
  {
   "cell_type": "code",
   "execution_count": 27,
   "id": "fd52b3ff",
   "metadata": {},
   "outputs": [],
   "source": [
    "movies = data[['Title', 'Plot']]"
   ]
  },
  {
   "cell_type": "code",
   "execution_count": 28,
   "id": "338a0295",
   "metadata": {},
   "outputs": [],
   "source": [
    "# BOW (Bag-of-Words)\n",
    "count_vectorizer = CountVectorizer()\n",
    "bow_matrix = count_vectorizer.fit_transform(movies['Plot'])"
   ]
  },
  {
   "cell_type": "code",
   "execution_count": 29,
   "id": "4b8e63dd",
   "metadata": {},
   "outputs": [],
   "source": [
    "# TF-IDF\n",
    "tfidf_vectorizer = TfidfVectorizer()\n",
    "tfidf_matrix = tfidf_vectorizer.fit_transform(movies['Plot'])"
   ]
  },
  {
   "cell_type": "code",
   "execution_count": 30,
   "id": "bb0d4412",
   "metadata": {},
   "outputs": [],
   "source": [
    "# Word2Vec\n",
    "sentences = [plot.split() for plot in movies['Plot']]\n",
    "word2vec_model = Word2Vec(sentences, vector_size=100, window=5, min_count=1, workers=4)"
   ]
  },
  {
   "cell_type": "code",
   "execution_count": 31,
   "id": "b5648359",
   "metadata": {},
   "outputs": [],
   "source": [
    "# FastText\n",
    "fasttext_model = FastText(sentences, vector_size=100, window=5, min_count=1, workers=4)"
   ]
  },
  {
   "cell_type": "code",
   "execution_count": 33,
   "id": "8331dd87",
   "metadata": {},
   "outputs": [],
   "source": [
    "def content_based_recommender(plot_description, method='bow', top_n=5):\n",
    "    if method == 'bow':\n",
    "        plot_vector = count_vectorizer.transform([plot_description])\n",
    "        similarity_matrix = cosine_similarity(plot_vector, bow_matrix)\n",
    "    elif method == 'tfidf':\n",
    "        plot_vector = tfidf_vectorizer.transform([plot_description])\n",
    "        similarity_matrix = cosine_similarity(plot_vector, tfidf_matrix)\n",
    "    elif method == 'fasttext':\n",
    "        plot_vector = sum(fasttext_model.wv[word] for word in plot_description.split() if word in fasttext_model.wv)\n",
    "        similarity_matrix = cosine_similarity([plot_vector], [fasttext_model.wv[word] for word in movies['Plot']])\n",
    "    else:\n",
    "        print(\"Invalid method.\")\n",
    "        return\n",
    "    \n",
    "    top_indices = similarity_matrix.argsort()[0][-top_n:][::-1]\n",
    "    recommended_movies = movies.iloc[top_indices]['Title']\n",
    "    return recommended_movies.tolist()"
   ]
  },
  {
   "cell_type": "code",
   "execution_count": 39,
   "id": "77bd5f52",
   "metadata": {},
   "outputs": [
    {
     "name": "stdout",
     "output_type": "stream",
     "text": [
      "Recommended Movies (BOW): ['Annaiyum Pithavum', 'Mitti Wajaan Maardi', 'Nalla Kaalam Porandaachu', 'The Homecoming', 'Honeysuckle Rose']\n",
      "Recommended Movies (tfidf): ['The Mirror Boy', 'The Idol', 'Puella Magi Madoka Magica (Part 2)', 'Puella Magi Madoka Magica (Part 1)', 'Yona Yona Penguin']\n",
      "Recommended Movies (fasttext): ['The Summer Is Gone', 'High Jinks in Society', 'Gone with the Bullets', 'Ekti Tarar Khonje', 'Runway']\n"
     ]
    }
   ],
   "source": [
    "plot_description = \"A young boy embarks on a magical adventure to save his family.\"\n",
    "recommended_movies_bow = content_based_recommender(plot_description, method='bow', top_n=5)\n",
    "recommended_movies_tfidf = content_based_recommender(plot_description, method='tfidf', top_n=5)\n",
    "recommended_movies_fasttext = content_based_recommender(plot_description, method='fasttext', top_n=5)\n",
    "print(\"Recommended Movies (BOW):\", recommended_movies_bow)\n",
    "print(\"Recommended Movies (tfidf):\", recommended_movies_tfidf)\n",
    "print(\"Recommended Movies (fasttext):\", recommended_movies_fasttext)"
   ]
  }
 ],
 "metadata": {
  "kernelspec": {
   "display_name": "Python 3 (ipykernel)",
   "language": "python",
   "name": "python3"
  },
  "language_info": {
   "codemirror_mode": {
    "name": "ipython",
    "version": 3
   },
   "file_extension": ".py",
   "mimetype": "text/x-python",
   "name": "python",
   "nbconvert_exporter": "python",
   "pygments_lexer": "ipython3",
   "version": "3.11.3"
  }
 },
 "nbformat": 4,
 "nbformat_minor": 5
}
