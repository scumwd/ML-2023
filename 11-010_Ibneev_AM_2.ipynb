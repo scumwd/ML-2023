{
 "cells": [
  {
   "cell_type": "markdown",
   "id": "f63e290a",
   "metadata": {},
   "source": [
    "# 1."
   ]
  },
  {
   "cell_type": "code",
   "execution_count": 112,
   "id": "49fb65f9",
   "metadata": {},
   "outputs": [
    {
     "data": {
      "text/html": [
       "<div>\n",
       "<style scoped>\n",
       "    .dataframe tbody tr th:only-of-type {\n",
       "        vertical-align: middle;\n",
       "    }\n",
       "\n",
       "    .dataframe tbody tr th {\n",
       "        vertical-align: top;\n",
       "    }\n",
       "\n",
       "    .dataframe thead th {\n",
       "        text-align: right;\n",
       "    }\n",
       "</style>\n",
       "<table border=\"1\" class=\"dataframe\">\n",
       "  <thead>\n",
       "    <tr style=\"text-align: right;\">\n",
       "      <th></th>\n",
       "      <th>school</th>\n",
       "      <th>sex</th>\n",
       "      <th>age</th>\n",
       "      <th>address</th>\n",
       "      <th>famsize</th>\n",
       "      <th>Pstatus</th>\n",
       "      <th>Medu</th>\n",
       "      <th>Fedu</th>\n",
       "      <th>Mjob</th>\n",
       "      <th>Fjob</th>\n",
       "      <th>...</th>\n",
       "      <th>famrel</th>\n",
       "      <th>freetime</th>\n",
       "      <th>goout</th>\n",
       "      <th>Dalc</th>\n",
       "      <th>Walc</th>\n",
       "      <th>health</th>\n",
       "      <th>absences</th>\n",
       "      <th>G1</th>\n",
       "      <th>G2</th>\n",
       "      <th>G3</th>\n",
       "    </tr>\n",
       "  </thead>\n",
       "  <tbody>\n",
       "    <tr>\n",
       "      <th>0</th>\n",
       "      <td>GP</td>\n",
       "      <td>F</td>\n",
       "      <td>18</td>\n",
       "      <td>U</td>\n",
       "      <td>GT3</td>\n",
       "      <td>A</td>\n",
       "      <td>4</td>\n",
       "      <td>4</td>\n",
       "      <td>at_home</td>\n",
       "      <td>teacher</td>\n",
       "      <td>...</td>\n",
       "      <td>4</td>\n",
       "      <td>3</td>\n",
       "      <td>4</td>\n",
       "      <td>1</td>\n",
       "      <td>1</td>\n",
       "      <td>3</td>\n",
       "      <td>6</td>\n",
       "      <td>5</td>\n",
       "      <td>6</td>\n",
       "      <td>6</td>\n",
       "    </tr>\n",
       "    <tr>\n",
       "      <th>1</th>\n",
       "      <td>GP</td>\n",
       "      <td>F</td>\n",
       "      <td>17</td>\n",
       "      <td>U</td>\n",
       "      <td>GT3</td>\n",
       "      <td>T</td>\n",
       "      <td>1</td>\n",
       "      <td>1</td>\n",
       "      <td>at_home</td>\n",
       "      <td>other</td>\n",
       "      <td>...</td>\n",
       "      <td>5</td>\n",
       "      <td>3</td>\n",
       "      <td>3</td>\n",
       "      <td>1</td>\n",
       "      <td>1</td>\n",
       "      <td>3</td>\n",
       "      <td>4</td>\n",
       "      <td>5</td>\n",
       "      <td>5</td>\n",
       "      <td>6</td>\n",
       "    </tr>\n",
       "    <tr>\n",
       "      <th>2</th>\n",
       "      <td>GP</td>\n",
       "      <td>F</td>\n",
       "      <td>15</td>\n",
       "      <td>U</td>\n",
       "      <td>LE3</td>\n",
       "      <td>T</td>\n",
       "      <td>1</td>\n",
       "      <td>1</td>\n",
       "      <td>at_home</td>\n",
       "      <td>other</td>\n",
       "      <td>...</td>\n",
       "      <td>4</td>\n",
       "      <td>3</td>\n",
       "      <td>2</td>\n",
       "      <td>2</td>\n",
       "      <td>3</td>\n",
       "      <td>3</td>\n",
       "      <td>10</td>\n",
       "      <td>7</td>\n",
       "      <td>8</td>\n",
       "      <td>10</td>\n",
       "    </tr>\n",
       "    <tr>\n",
       "      <th>3</th>\n",
       "      <td>GP</td>\n",
       "      <td>F</td>\n",
       "      <td>15</td>\n",
       "      <td>U</td>\n",
       "      <td>GT3</td>\n",
       "      <td>T</td>\n",
       "      <td>4</td>\n",
       "      <td>2</td>\n",
       "      <td>health</td>\n",
       "      <td>services</td>\n",
       "      <td>...</td>\n",
       "      <td>3</td>\n",
       "      <td>2</td>\n",
       "      <td>2</td>\n",
       "      <td>1</td>\n",
       "      <td>1</td>\n",
       "      <td>5</td>\n",
       "      <td>2</td>\n",
       "      <td>15</td>\n",
       "      <td>14</td>\n",
       "      <td>15</td>\n",
       "    </tr>\n",
       "    <tr>\n",
       "      <th>4</th>\n",
       "      <td>GP</td>\n",
       "      <td>F</td>\n",
       "      <td>16</td>\n",
       "      <td>U</td>\n",
       "      <td>GT3</td>\n",
       "      <td>T</td>\n",
       "      <td>3</td>\n",
       "      <td>3</td>\n",
       "      <td>other</td>\n",
       "      <td>other</td>\n",
       "      <td>...</td>\n",
       "      <td>4</td>\n",
       "      <td>3</td>\n",
       "      <td>2</td>\n",
       "      <td>1</td>\n",
       "      <td>2</td>\n",
       "      <td>5</td>\n",
       "      <td>4</td>\n",
       "      <td>6</td>\n",
       "      <td>10</td>\n",
       "      <td>10</td>\n",
       "    </tr>\n",
       "  </tbody>\n",
       "</table>\n",
       "<p>5 rows × 33 columns</p>\n",
       "</div>"
      ],
      "text/plain": [
       "  school sex  age address famsize Pstatus  Medu  Fedu     Mjob      Fjob  ...  \\\n",
       "0     GP   F   18       U     GT3       A     4     4  at_home   teacher  ...   \n",
       "1     GP   F   17       U     GT3       T     1     1  at_home     other  ...   \n",
       "2     GP   F   15       U     LE3       T     1     1  at_home     other  ...   \n",
       "3     GP   F   15       U     GT3       T     4     2   health  services  ...   \n",
       "4     GP   F   16       U     GT3       T     3     3    other     other  ...   \n",
       "\n",
       "  famrel freetime  goout  Dalc  Walc health absences  G1  G2  G3  \n",
       "0      4        3      4     1     1      3        6   5   6   6  \n",
       "1      5        3      3     1     1      3        4   5   5   6  \n",
       "2      4        3      2     2     3      3       10   7   8  10  \n",
       "3      3        2      2     1     1      5        2  15  14  15  \n",
       "4      4        3      2     1     2      5        4   6  10  10  \n",
       "\n",
       "[5 rows x 33 columns]"
      ]
     },
     "execution_count": 112,
     "metadata": {},
     "output_type": "execute_result"
    }
   ],
   "source": [
    "import pandas as pd\n",
    "import numpy as np\n",
    "import pandas as pd\n",
    "import matplotlib.pyplot as plt\n",
    "\n",
    "url = 'https://raw.githubusercontent.com/new-okaerinasai/math-ml-hse-2019/master/sem01_intro/math_students.csv'\n",
    "data = pd.read_csv(url, on_bad_lines='skip', delimiter=',')\n",
    "data.head()"
   ]
  },
  {
   "cell_type": "code",
   "execution_count": 46,
   "id": "440d27a1",
   "metadata": {},
   "outputs": [
    {
     "name": "stdout",
     "output_type": "stream",
     "text": [
      "Самая частая причина - course\n"
     ]
    }
   ],
   "source": [
    "# 1.Какая причина выбора школы была самой частой? В качестве ответа приведите соответствующее значение признака.\n",
    "data['reason'].value_counts()\n",
    "\n",
    "print(\"Самая частая причина - \" + data['reason'].value_counts().idxmax())"
   ]
  },
  {
   "cell_type": "code",
   "execution_count": 31,
   "id": "96f45f8a",
   "metadata": {},
   "outputs": [
    {
     "data": {
      "text/plain": [
       "0"
      ]
     },
     "execution_count": 31,
     "metadata": {},
     "output_type": "execute_result"
    }
   ],
   "source": [
    "# 2. Найдите количество студентов, у родителей которых нет никакого образования.\n",
    "((data['Medu'] == 0) & (data['Fedu'] == 0)).sum()"
   ]
  },
  {
   "cell_type": "code",
   "execution_count": 29,
   "id": "e456f976",
   "metadata": {},
   "outputs": [
    {
     "data": {
      "text/plain": [
       "17"
      ]
     },
     "execution_count": 29,
     "metadata": {},
     "output_type": "execute_result"
    }
   ],
   "source": [
    "# 3. Найдите минимальный возраст учащегося школы Mousinho da Silveira.\n",
    "msStud = data[data['school']==\"MS\"]\n",
    "msStud['age'].min()"
   ]
  },
  {
   "cell_type": "code",
   "execution_count": 32,
   "id": "2527a2aa",
   "metadata": {},
   "outputs": [
    {
     "data": {
      "text/plain": [
       "41"
      ]
     },
     "execution_count": 32,
     "metadata": {},
     "output_type": "execute_result"
    }
   ],
   "source": [
    "# 4. Найдите количество студентов, имеющих нечетное число пропусков.\n",
    "(data['absences'] % 2 == 1).sum()"
   ]
  },
  {
   "cell_type": "code",
   "execution_count": 44,
   "id": "b3a6ef15",
   "metadata": {},
   "outputs": [
    {
     "data": {
      "text/plain": [
       "1.26"
      ]
     },
     "execution_count": 44,
     "metadata": {},
     "output_type": "execute_result"
    }
   ],
   "source": [
    "# 5. Найдите разность между средними итоговыми оценками студентов, состоящих и не состоящих в романтических отношениях. В качестве ответа приведите число, округленное до двух значащих цифр после запятой.\n",
    "fallInLove = data.loc[data['romantic'] == 'yes', 'G3'].mean()\n",
    "depressed = data.loc[data['romantic'] == 'no', 'G3'].mean()\n",
    "abs(round(depressed - fallInLove, 2))"
   ]
  },
  {
   "cell_type": "code",
   "execution_count": 79,
   "id": "e96ae0d8",
   "metadata": {},
   "outputs": [
    {
     "name": "stdout",
     "output_type": "stream",
     "text": [
      "1. yes\n",
      "2. 0\n",
      "3. 51\n"
     ]
    }
   ],
   "source": [
    "f = data['activities'].mode()[0]\n",
    "print(\"1. \" + f)\n",
    "\n",
    "s = data[data['activities'] == f]\n",
    "s1 = s['absences'].mode()[0]\n",
    "print(\"2. \" + str(s1))\n",
    "\n",
    "count = s[s['absences'] == s1].shape[0]\n",
    "print(\"3. \" + str(count))\n"
   ]
  },
  {
   "cell_type": "markdown",
   "id": "66ba76b4",
   "metadata": {},
   "source": [
    "# 2"
   ]
  },
  {
   "cell_type": "code",
   "execution_count": 80,
   "id": "9635b31e",
   "metadata": {},
   "outputs": [
    {
     "data": {
      "text/html": [
       "<div>\n",
       "<style scoped>\n",
       "    .dataframe tbody tr th:only-of-type {\n",
       "        vertical-align: middle;\n",
       "    }\n",
       "\n",
       "    .dataframe tbody tr th {\n",
       "        vertical-align: top;\n",
       "    }\n",
       "\n",
       "    .dataframe thead th {\n",
       "        text-align: right;\n",
       "    }\n",
       "</style>\n",
       "<table border=\"1\" class=\"dataframe\">\n",
       "  <thead>\n",
       "    <tr style=\"text-align: right;\">\n",
       "      <th></th>\n",
       "      <th>PassengerId</th>\n",
       "      <th>Survived</th>\n",
       "      <th>Pclass</th>\n",
       "      <th>Name</th>\n",
       "      <th>Sex</th>\n",
       "      <th>Age</th>\n",
       "      <th>SibSp</th>\n",
       "      <th>Parch</th>\n",
       "      <th>Ticket</th>\n",
       "      <th>Fare</th>\n",
       "      <th>Cabin</th>\n",
       "      <th>Embarked</th>\n",
       "    </tr>\n",
       "  </thead>\n",
       "  <tbody>\n",
       "    <tr>\n",
       "      <th>0</th>\n",
       "      <td>1</td>\n",
       "      <td>0</td>\n",
       "      <td>3</td>\n",
       "      <td>Braund, Mr. Owen Harris</td>\n",
       "      <td>male</td>\n",
       "      <td>22.0</td>\n",
       "      <td>1</td>\n",
       "      <td>0</td>\n",
       "      <td>A/5 21171</td>\n",
       "      <td>7.2500</td>\n",
       "      <td>NaN</td>\n",
       "      <td>S</td>\n",
       "    </tr>\n",
       "    <tr>\n",
       "      <th>1</th>\n",
       "      <td>2</td>\n",
       "      <td>1</td>\n",
       "      <td>1</td>\n",
       "      <td>Cumings, Mrs. John Bradley (Florence Briggs Th...</td>\n",
       "      <td>female</td>\n",
       "      <td>38.0</td>\n",
       "      <td>1</td>\n",
       "      <td>0</td>\n",
       "      <td>PC 17599</td>\n",
       "      <td>71.2833</td>\n",
       "      <td>C85</td>\n",
       "      <td>C</td>\n",
       "    </tr>\n",
       "    <tr>\n",
       "      <th>2</th>\n",
       "      <td>3</td>\n",
       "      <td>1</td>\n",
       "      <td>3</td>\n",
       "      <td>Heikkinen, Miss. Laina</td>\n",
       "      <td>female</td>\n",
       "      <td>26.0</td>\n",
       "      <td>0</td>\n",
       "      <td>0</td>\n",
       "      <td>STON/O2. 3101282</td>\n",
       "      <td>7.9250</td>\n",
       "      <td>NaN</td>\n",
       "      <td>S</td>\n",
       "    </tr>\n",
       "    <tr>\n",
       "      <th>3</th>\n",
       "      <td>4</td>\n",
       "      <td>1</td>\n",
       "      <td>1</td>\n",
       "      <td>Futrelle, Mrs. Jacques Heath (Lily May Peel)</td>\n",
       "      <td>female</td>\n",
       "      <td>35.0</td>\n",
       "      <td>1</td>\n",
       "      <td>0</td>\n",
       "      <td>113803</td>\n",
       "      <td>53.1000</td>\n",
       "      <td>C123</td>\n",
       "      <td>S</td>\n",
       "    </tr>\n",
       "    <tr>\n",
       "      <th>4</th>\n",
       "      <td>5</td>\n",
       "      <td>0</td>\n",
       "      <td>3</td>\n",
       "      <td>Allen, Mr. William Henry</td>\n",
       "      <td>male</td>\n",
       "      <td>35.0</td>\n",
       "      <td>0</td>\n",
       "      <td>0</td>\n",
       "      <td>373450</td>\n",
       "      <td>8.0500</td>\n",
       "      <td>NaN</td>\n",
       "      <td>S</td>\n",
       "    </tr>\n",
       "  </tbody>\n",
       "</table>\n",
       "</div>"
      ],
      "text/plain": [
       "   PassengerId  Survived  Pclass  \\\n",
       "0            1         0       3   \n",
       "1            2         1       1   \n",
       "2            3         1       3   \n",
       "3            4         1       1   \n",
       "4            5         0       3   \n",
       "\n",
       "                                                Name     Sex   Age  SibSp  \\\n",
       "0                            Braund, Mr. Owen Harris    male  22.0      1   \n",
       "1  Cumings, Mrs. John Bradley (Florence Briggs Th...  female  38.0      1   \n",
       "2                             Heikkinen, Miss. Laina  female  26.0      0   \n",
       "3       Futrelle, Mrs. Jacques Heath (Lily May Peel)  female  35.0      1   \n",
       "4                           Allen, Mr. William Henry    male  35.0      0   \n",
       "\n",
       "   Parch            Ticket     Fare Cabin Embarked  \n",
       "0      0         A/5 21171   7.2500   NaN        S  \n",
       "1      0          PC 17599  71.2833   C85        C  \n",
       "2      0  STON/O2. 3101282   7.9250   NaN        S  \n",
       "3      0            113803  53.1000  C123        S  \n",
       "4      0            373450   8.0500   NaN        S  "
      ]
     },
     "execution_count": 80,
     "metadata": {},
     "output_type": "execute_result"
    }
   ],
   "source": [
    "new_url = 'https://raw.githubusercontent.com/agconti/kaggle-titanic/master/data/train.csv'\n",
    "data1 = pd.read_csv(new_url, on_bad_lines='skip', delimiter=',')\n",
    "data1.head()"
   ]
  },
  {
   "cell_type": "code",
   "execution_count": 81,
   "id": "11c1b602",
   "metadata": {},
   "outputs": [
    {
     "data": {
      "text/plain": [
       "Sex\n",
       "male      577\n",
       "female    314\n",
       "Name: count, dtype: int64"
      ]
     },
     "execution_count": 81,
     "metadata": {},
     "output_type": "execute_result"
    }
   ],
   "source": [
    "# 1. Сколько мужчин / женщин находилось на борту?\n",
    "data1['Sex'].value_counts()"
   ]
  },
  {
   "cell_type": "code",
   "execution_count": 88,
   "id": "620e8399",
   "metadata": {},
   "outputs": [
    {
     "name": "stdout",
     "output_type": "stream",
     "text": [
      "Общее распределение:Pclass\n",
      "3    491\n",
      "1    216\n",
      "2    184\n",
      "Name: count, dtype: int64\n",
      "Распределение мужчины:Pclass\n",
      "3    347\n",
      "1    122\n",
      "2    108\n",
      "Name: count, dtype: int64\n",
      "Распределение женщины:Pclass\n",
      "3    144\n",
      "1     94\n",
      "2     76\n",
      "Name: count, dtype: int64\n",
      "Количество мужчин 2-ого класса:108\n"
     ]
    }
   ],
   "source": [
    "# 2. Выведите распределение переменной Pclass (социально-экономический статус) и это же распределение, только для мужчин / женщин по отдельности. Сколько было мужщин 2-го класса?\n",
    "raspr = data1['Pclass'].value_counts()\n",
    "raspr_m = data1[data1['Sex'] == 'male']['Pclass'].value_counts()\n",
    "raspr_w = data1[data1['Sex'] == 'female']['Pclass'].value_counts()\n",
    "count_m = len(data1[(data1['Sex'] == 'male') & (data1['Pclass'] == 2)]['Sex'])\n",
    "\n",
    "print(\"Общее распределение:\" + str(raspr))\n",
    "print(\"Распределение мужчины:\" + str(raspr_m))\n",
    "print(\"Распределение женщины:\" + str(raspr_w))\n",
    "print(\"Количество мужчин 2-ого класса:\" + str(count_m))"
   ]
  },
  {
   "cell_type": "code",
   "execution_count": 96,
   "id": "0d18dee6",
   "metadata": {},
   "outputs": [
    {
     "name": "stdout",
     "output_type": "stream",
     "text": [
      "Медиана: 14.45\n",
      "Стандартное отклонение: 49.69\n"
     ]
    }
   ],
   "source": [
    "# 3. Каковы медиана и стандартное отклонение платежей (Fare)? Округлите до 2 десятичных знаков.\n",
    "medianPay = data1['Fare'].median().round(2)\n",
    "print(\"Медиана: \" + str(medianPay))\n",
    "stdPay = data1['Fare'].std().round(2)\n",
    "print(\"Стандартное отклонение: \" + str(stdPay))"
   ]
  },
  {
   "cell_type": "code",
   "execution_count": 99,
   "id": "503fde9b",
   "metadata": {},
   "outputs": [
    {
     "name": "stdout",
     "output_type": "stream",
     "text": [
      "Молодые: 0.40625\n",
      "Старше 60: 0.22727272727272727\n",
      "True\n"
     ]
    }
   ],
   "source": [
    "# 4. Правда ли, что люди моложе 30 лет выживали чаще, чем люди старше 60 лет? Каковы доли выживших в обеих группах?\n",
    "jun = data1[data1[\"Age\"] < 30][\"Survived\"].mean()\n",
    "sen = data1[data1[\"Age\"] > 60][\"Survived\"].mean()\n",
    "print(\"Молодые: \" + str(jun))\n",
    "print(\"Старше 60: \" + str(sen))\n",
    "print(jun>sen)"
   ]
  },
  {
   "cell_type": "code",
   "execution_count": 102,
   "id": "1157f98c",
   "metadata": {},
   "outputs": [
    {
     "name": "stdout",
     "output_type": "stream",
     "text": [
      "Мужчины: 0.18890814558058924\n",
      "Женщины: 0.7420382165605095\n",
      "True\n"
     ]
    }
   ],
   "source": [
    "# 5. Правда ли, что женщины выживали чаще мужчин? Каковы доли выживших в обеих группах?\n",
    "men = data1[data1[\"Sex\"] == \"male\"][\"Survived\"].mean()\n",
    "women = data1[data1[\"Sex\"] == \"female\"][\"Survived\"].mean()\n",
    "\n",
    "print(\"Мужчины: \" + str(men))\n",
    "print(\"Женщины: \" + str(women))\n",
    "print(women > men)"
   ]
  },
  {
   "cell_type": "code",
   "execution_count": 105,
   "id": "1ac7b3c4",
   "metadata": {},
   "outputs": [
    {
     "name": "stdout",
     "output_type": "stream",
     "text": [
      "William\n"
     ]
    }
   ],
   "source": [
    "# 6. Найдите самое популярное имя среди пассажиров Титаника мужского пола?\n",
    "mens = data1[data1['Sex'] == 'male']\n",
    "menNames = mens['Name']\n",
    "menName = menNames.apply(lambda x: x.split(',')[1].split()[1])\n",
    "count = menName.value_counts()\n",
    "print(count.idxmax())"
   ]
  },
  {
   "cell_type": "code",
   "execution_count": 126,
   "id": "da8436f6",
   "metadata": {},
   "outputs": [
    {
     "data": {
      "text/plain": [
       "<matplotlib.legend.Legend at 0x1416c3710>"
      ]
     },
     "execution_count": 126,
     "metadata": {},
     "output_type": "execute_result"
    },
    {
     "data": {
      "image/png": "[encoded data removed]",
      "text/plain": [
       "<Figure size 640x480 with 1 Axes>"
      ]
     },
     "metadata": {},
     "output_type": "display_data"
    }
   ],
   "source": [
    "# 7. Сравните графически распределение стоимости билетов и возраста у спасенных и у погибших. Средний возраст погибших выше, верно?\n",
    "die = data1[data1['Survived'] == 0]\n",
    "live = data1[data1['Survived'] == 1]\n",
    "plt.hist(live['Fare'], alpha=0.5, color='b', label='Live')\n",
    "plt.hist(die['Fare'], alpha=0.5, color='r', label='Die')\n",
    "plt.title('Стоимость билетов')\n",
    "plt.legend()"
   ]
  },
  {
   "cell_type": "code",
   "execution_count": 125,
   "id": "2488a128",
   "metadata": {},
   "outputs": [
    {
     "data": {
      "text/plain": [
       "<matplotlib.legend.Legend at 0x14163ef90>"
      ]
     },
     "execution_count": 125,
     "metadata": {},
     "output_type": "execute_result"
    },
    {
     "data": {
      "image/png": "[encoded data removed]",
      "text/plain": [
       "<Figure size 640x480 with 1 Axes>"
      ]
     },
     "metadata": {},
     "output_type": "display_data"
    }
   ],
   "source": [
    "plt.hist(live['Age'].dropna(), alpha=0.5, color='b', label='Live')\n",
    "plt.hist(die['Age'].dropna(), alpha=0.5, color='r', label='Die')\n",
    "plt.title('Возраст')\n",
    "plt.legend()"
   ]
  },
  {
   "cell_type": "code",
   "execution_count": 128,
   "id": "134e2e82",
   "metadata": {},
   "outputs": [
    {
     "name": "stdout",
     "output_type": "stream",
     "text": [
      "Возраст выживших: 28.343689655172415\n",
      "Возраст погибших: 30.62617924528302\n",
      "True\n"
     ]
    }
   ],
   "source": [
    "ageDie = die['Age'].mean()\n",
    "ageLive = live['Age'].mean()\n",
    "print(\"Возраст выживших: \" + str(ageLive))\n",
    "print(\"Возраст погибших: \" + str(ageDie))\n",
    "print(ageDie > ageLive)"
   ]
  },
  {
   "cell_type": "code",
   "execution_count": 140,
   "id": "67355365",
   "metadata": {},
   "outputs": [
    {
     "name": "stdout",
     "output_type": "stream",
     "text": [
      "1. True\n",
      "2. False\n",
      "3. True\n",
      "4. True\n"
     ]
    }
   ],
   "source": [
    "# 8. Как отличается средний возраст мужчин / женщин в зависимости от класса обслуживания?\n",
    "men_40 =  data1[((data1['Pclass'] == 1) & (data1['Sex'] == 'male'))]['Age'].mean() > 40\n",
    "women_40 = data1[((data1['Pclass'] == 1) & (data1['Sex'] == 'female'))]['Age'].mean() > 40\n",
    "men_women = data1.groupby(['Sex', 'Pclass'])['Age'].mean()\n",
    "human = data1.groupby(\"Pclass\")[\"Age\"].mean()\n",
    "\n",
    "print(\"1. \" + str(men_40))\n",
    "print(\"2. \" + str(women_40))\n",
    "print(\"3. \" + str(all(men_women['male'] > men_women['female'])))\n",
    "print(\"4. \" + str(human[1]>human[2]>human[3]))\n"
   ]
  },
  {
   "cell_type": "code",
   "execution_count": null,
   "id": "a1a36b7d",
   "metadata": {},
   "outputs": [],
   "source": []
  }
 ],
 "metadata": {
  "kernelspec": {
   "display_name": "Python 3 (ipykernel)",
   "language": "python",
   "name": "python3"
  },
  "language_info": {
   "codemirror_mode": {
    "name": "ipython",
    "version": 3
   },
   "file_extension": ".py",
   "mimetype": "text/x-python",
   "name": "python",
   "nbconvert_exporter": "python",
   "pygments_lexer": "ipython3",
   "version": "3.11.3"
  }
 },
 "nbformat": 4,
 "nbformat_minor": 5
}
