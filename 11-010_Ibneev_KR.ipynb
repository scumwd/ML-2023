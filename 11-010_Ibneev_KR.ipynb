{
 "cells": [
  {
   "cell_type": "code",
   "execution_count": 15,
   "id": "2f9a2644-ca47-474f-bc3f-c88f4dc3d4e2",
   "metadata": {},
   "outputs": [],
   "source": [
    "import numpy as np\n",
    "import pandas as pd\n",
    "import seaborn as sns\n",
    "import matplotlib.pyplot as plt\n",
    "\n",
    "from sklearn.ensemble import IsolationForest\n",
    "from sklearn.multioutput import MultiOutputRegressor\n",
    "\n",
    "from sklearn.model_selection import train_test_split\n",
    "from sklearn.preprocessing import StandardScaler\n",
    "from sklearn.model_selection import cross_val_score, cross_val_predict, cross_validate\n",
    "\n",
    "from sklearn.linear_model import LogisticRegression\n",
    "from sklearn.linear_model import LassoCV, RidgeCV, MultiTaskLassoCV # Ridge и Lasso Регрессия\n",
    "from sklearn.svm import SVR\n",
    "from sklearn.tree import DecisionTreeClassifier\n",
    "from sklearn.neighbors import KNeighborsClassifier\n",
    "\n",
    "from sklearn.metrics import make_scorer, r2_score, precision_score, recall_score, roc_auc_score\n",
    "\n",
    "from sklearn.pipeline import Pipeline\n",
    "from sklearn.pipeline import make_pipeline\n",
    "from sklearn.model_selection import GridSearchCV\n",
    "from sklearn.feature_selection import SelectKBest, chi2\n",
    "from sklearn import preprocessing\n",
    "from sklearn.ensemble import StackingClassifier, BaggingClassifier\n",
    "from sklearn.svm import SVC\n",
    "from sklearn.naive_bayes import GaussianNB\n",
    "from sklearn.ensemble import GradientBoostingClassifier\n",
    "\n",
    "import gc\n",
    "\n",
    "sns.set()\n",
    "%matplotlib inline\n",
    "\n",
    "import sys\n",
    "# np.set_printoptions(suppress=True)\n",
    "# np.set_printoptions(threshold=sys.maxsize)\n",
    "np.set_printoptions(precision=3)\n",
    "\n",
    "DISPLAY_MAX_ROWS = 20 #20\n",
    "pd.set_option('display.max_rows', DISPLAY_MAX_ROWS)\n",
    "pd.set_option('display.max_column',None)\n",
    "plt.style.use(\"seaborn-v0_8-whitegrid\")\n",
    "\n",
    "import warnings\n",
    "warnings.filterwarnings('ignore')"
   ]
  },
  {
   "cell_type": "code",
   "execution_count": 17,
   "id": "2396e2d0-f766-4564-aa58-9d7b7435ba42",
   "metadata": {},
   "outputs": [
    {
     "name": "stdout",
     "output_type": "stream",
     "text": [
      "(2947, 128, 9)\n",
      "(2947, 6)\n"
     ]
    }
   ],
   "source": [
    "X_test = np.load('X_test.npy')\n",
    "y_test = np.load('y_test.npy')\n",
    "print(X_test.shape)\n",
    "print(y_test.shape)"
   ]
  },
  {
   "cell_type": "code",
   "execution_count": 18,
   "id": "cfbd5498-6f66-4587-9641-732e177531ea",
   "metadata": {},
   "outputs": [
    {
     "name": "stdout",
     "output_type": "stream",
     "text": [
      "(7352, 128, 9)\n",
      "(7352, 6)\n"
     ]
    }
   ],
   "source": [
    "X_train = np.load('X_train.npy')\n",
    "y_train = np.load('y_train.npy')\n",
    "print(X_train.shape)\n",
    "print(y_train.shape)"
   ]
  },
  {
   "cell_type": "code",
   "execution_count": 19,
   "id": "877c9d4e-00a0-493b-b981-ccbe0133b9b2",
   "metadata": {},
   "outputs": [
    {
     "data": {
      "text/plain": [
       "(10299, 128, 9)"
      ]
     },
     "execution_count": 19,
     "metadata": {},
     "output_type": "execute_result"
    }
   ],
   "source": [
    "X_concat = np.concatenate((X_train, X_test))\n",
    "X_concat.shape"
   ]
  },
  {
   "cell_type": "code",
   "execution_count": 20,
   "id": "d23bee0d-0355-4c21-bffa-010ab33603e8",
   "metadata": {},
   "outputs": [
    {
     "data": {
      "text/plain": [
       "(10299, 6)"
      ]
     },
     "execution_count": 20,
     "metadata": {},
     "output_type": "execute_result"
    }
   ],
   "source": [
    "y_concat = np.concatenate((y_train, y_test))\n",
    "y_concat.shape"
   ]
  },
  {
   "cell_type": "code",
   "execution_count": 21,
   "id": "acf6c007-3383-4bae-bc6f-dcc708fd2385",
   "metadata": {},
   "outputs": [
    {
     "data": {
      "text/plain": [
       "(1318272, 6)"
      ]
     },
     "execution_count": 21,
     "metadata": {},
     "output_type": "execute_result"
    }
   ],
   "source": [
    "y = np.repeat(y_concat, np.repeat(np.array([128]), y_concat.shape[0]), axis=0)\n",
    "y.shape"
   ]
  },
  {
   "cell_type": "code",
   "execution_count": 22,
   "id": "66671afb-dd4f-4c73-a708-43f482b331ce",
   "metadata": {},
   "outputs": [
    {
     "data": {
      "text/plain": [
       "(1318272, 9)"
      ]
     },
     "execution_count": 22,
     "metadata": {},
     "output_type": "execute_result"
    }
   ],
   "source": [
    "x = X_concat.reshape(-1, 9)\n",
    "x.shape"
   ]
  },
  {
   "cell_type": "code",
   "execution_count": 23,
   "id": "a709ae0c-90b0-43b6-9455-9df8ab2fd26d",
   "metadata": {},
   "outputs": [
    {
     "data": {
      "text/plain": [
       "array([[0., 0., 0., 0., 1., 0.],\n",
       "       [0., 0., 0., 0., 1., 0.],\n",
       "       [0., 0., 0., 0., 1., 0.],\n",
       "       ...,\n",
       "       [0., 1., 0., 0., 0., 0.],\n",
       "       [0., 1., 0., 0., 0., 0.],\n",
       "       [0., 1., 0., 0., 0., 0.]])"
      ]
     },
     "execution_count": 23,
     "metadata": {},
     "output_type": "execute_result"
    }
   ],
   "source": [
    "y"
   ]
  },
  {
   "cell_type": "code",
   "execution_count": 24,
   "id": "d25a7104-4f2f-42ee-be09-f580a1fe0252",
   "metadata": {},
   "outputs": [],
   "source": [
    "new_y = []\n",
    "for i in range(len(y)):\n",
    "  for j in range(len(y[i])):\n",
    "    if (y[i][j] == 0):\n",
    "      continue\n",
    "    else:\n",
    "      new_y.append(j + 1)"
   ]
  },
  {
   "cell_type": "code",
   "execution_count": 25,
   "id": "dd92e50d-e320-4abd-bba0-7d47c7f3b7dc",
   "metadata": {},
   "outputs": [
    {
     "data": {
      "text/plain": [
       "array([[1, 2, 3],\n",
       "       [3, 4, 5]])"
      ]
     },
     "execution_count": 25,
     "metadata": {},
     "output_type": "execute_result"
    }
   ],
   "source": [
    "arr1 = np.array([[1, 2, 3], [3, 4, 5]])\n",
    "arr2 = np.array([6, 7])\n",
    "arr2 = arr2.reshape(2, 1)\n",
    "np.concatenate((arr1, arr2), axis = 1)\n",
    "np.append(arr1, arr2, axis = 1)\n",
    "arr1"
   ]
  },
  {
   "cell_type": "code",
   "execution_count": 27,
   "id": "c847e329-177b-4026-a6be-9de49ed17cd1",
   "metadata": {},
   "outputs": [
    {
     "data": {
      "text/plain": [
       "array([[ 1.013, -0.123,  0.103, ...,  0.066,  0.023,  5.   ],\n",
       "       [ 1.023, -0.127,  0.106, ...,  0.043,  0.01 ,  5.   ],\n",
       "       [ 1.022, -0.124,  0.102, ...,  0.075,  0.013,  5.   ],\n",
       "       ...,\n",
       "       [ 0.919, -0.352, -0.073, ..., -0.021, -0.051,  2.   ],\n",
       "       [ 0.949, -0.268, -0.051, ..., -0.042, -0.079,  2.   ],\n",
       "       [ 0.958, -0.194, -0.029, ..., -0.102, -0.046,  2.   ]])"
      ]
     },
     "execution_count": 27,
     "metadata": {},
     "output_type": "execute_result"
    }
   ],
   "source": [
    "new_y = np.array(new_y)\n",
    "new_y = new_y.reshape(1318272, 1)\n",
    "data = np.concatenate((x, new_y), axis = 1)\n",
    "data"
   ]
  },
  {
   "cell_type": "code",
   "execution_count": 28,
   "id": "fe432ff2-d88d-47eb-ba82-e399d689f3ab",
   "metadata": {},
   "outputs": [
    {
     "data": {
      "text/plain": [
       "['Sensor 1',\n",
       " 'Sensor 2',\n",
       " 'Sensor 3',\n",
       " 'Sensor 4',\n",
       " 'Sensor 5',\n",
       " 'Sensor 6',\n",
       " 'Sensor 7',\n",
       " 'Sensor 8',\n",
       " 'Sensor 9',\n",
       " 'Mode']"
      ]
     },
     "execution_count": 28,
     "metadata": {},
     "output_type": "execute_result"
    }
   ],
   "source": [
    "columns = []\n",
    "for i in range(9):\n",
    "  columns.append('Sensor {}'.format(i+1))\n",
    "\n",
    "columns.append('Mode')\n",
    "columns"
   ]
  },
  {
   "cell_type": "code",
   "execution_count": 32,
   "id": "04babab6-ed22-4b1c-a5a9-10b0b87dce6f",
   "metadata": {},
   "outputs": [
    {
     "name": "stdout",
     "output_type": "stream",
     "text": [
      "<class 'pandas.core.frame.DataFrame'>\n",
      "RangeIndex: 1318272 entries, 0 to 1318271\n",
      "Data columns (total 10 columns):\n",
      " #   Column    Non-Null Count    Dtype  \n",
      "---  ------    --------------    -----  \n",
      " 0   Sensor 1  1318272 non-null  float64\n",
      " 1   Sensor 2  1318272 non-null  float64\n",
      " 2   Sensor 3  1318272 non-null  float64\n",
      " 3   Sensor 4  1318272 non-null  float64\n",
      " 4   Sensor 5  1318272 non-null  float64\n",
      " 5   Sensor 6  1318272 non-null  float64\n",
      " 6   Sensor 7  1318272 non-null  float64\n",
      " 7   Sensor 8  1318272 non-null  float64\n",
      " 8   Sensor 9  1318272 non-null  float64\n",
      " 9   Mode      1318272 non-null  float64\n",
      "dtypes: float64(10)\n",
      "memory usage: 100.6 MB\n"
     ]
    }
   ],
   "source": [
    "df = pd.DataFrame(data, columns = columns)\n",
    "df.info()"
   ]
  },
  {
   "cell_type": "code",
   "execution_count": 34,
   "id": "fb73a945-986d-45c6-bde5-9f2cf59b2ef2",
   "metadata": {},
   "outputs": [
    {
     "data": {
      "text/html": [
       "<div>\n",
       "<style scoped>\n",
       "    .dataframe tbody tr th:only-of-type {\n",
       "        vertical-align: middle;\n",
       "    }\n",
       "\n",
       "    .dataframe tbody tr th {\n",
       "        vertical-align: top;\n",
       "    }\n",
       "\n",
       "    .dataframe thead th {\n",
       "        text-align: right;\n",
       "    }\n",
       "</style>\n",
       "<table border=\"1\" class=\"dataframe\">\n",
       "  <thead>\n",
       "    <tr style=\"text-align: right;\">\n",
       "      <th></th>\n",
       "      <th>Sensor 1</th>\n",
       "      <th>Sensor 2</th>\n",
       "      <th>Sensor 3</th>\n",
       "      <th>Sensor 4</th>\n",
       "      <th>Sensor 5</th>\n",
       "      <th>Sensor 6</th>\n",
       "      <th>Sensor 7</th>\n",
       "      <th>Sensor 8</th>\n",
       "      <th>Sensor 9</th>\n",
       "      <th>Mode</th>\n",
       "    </tr>\n",
       "  </thead>\n",
       "  <tbody>\n",
       "    <tr>\n",
       "      <th>count</th>\n",
       "      <td>1.318272e+06</td>\n",
       "      <td>1.318272e+06</td>\n",
       "      <td>1.318272e+06</td>\n",
       "      <td>1.318272e+06</td>\n",
       "      <td>1.318272e+06</td>\n",
       "      <td>1.318272e+06</td>\n",
       "      <td>1.318272e+06</td>\n",
       "      <td>1.318272e+06</td>\n",
       "      <td>1.318272e+06</td>\n",
       "      <td>1.318272e+06</td>\n",
       "    </tr>\n",
       "    <tr>\n",
       "      <th>mean</th>\n",
       "      <td>8.083301e-01</td>\n",
       "      <td>2.177181e-02</td>\n",
       "      <td>8.483052e-02</td>\n",
       "      <td>-6.653325e-04</td>\n",
       "      <td>-3.175073e-04</td>\n",
       "      <td>-2.039500e-04</td>\n",
       "      <td>-3.411295e-03</td>\n",
       "      <td>-1.716060e-04</td>\n",
       "      <td>8.960282e-04</td>\n",
       "      <td>3.624624e+00</td>\n",
       "    </tr>\n",
       "    <tr>\n",
       "      <th>std</th>\n",
       "      <td>4.119907e-01</td>\n",
       "      <td>3.972846e-01</td>\n",
       "      <td>3.442544e-01</td>\n",
       "      <td>1.918905e-01</td>\n",
       "      <td>1.219082e-01</td>\n",
       "      <td>1.037597e-01</td>\n",
       "      <td>4.039425e-01</td>\n",
       "      <td>3.704799e-01</td>\n",
       "      <td>2.539519e-01</td>\n",
       "      <td>1.743611e+00</td>\n",
       "    </tr>\n",
       "    <tr>\n",
       "      <th>min</th>\n",
       "      <td>-4.665558e-01</td>\n",
       "      <td>-1.588211e+00</td>\n",
       "      <td>-1.639609e+00</td>\n",
       "      <td>-1.232238e+00</td>\n",
       "      <td>-1.345267e+00</td>\n",
       "      <td>-1.364707e+00</td>\n",
       "      <td>-4.733656e+00</td>\n",
       "      <td>-5.974330e+00</td>\n",
       "      <td>-2.763014e+00</td>\n",
       "      <td>1.000000e+00</td>\n",
       "    </tr>\n",
       "    <tr>\n",
       "      <th>25%</th>\n",
       "      <td>6.833297e-01</td>\n",
       "      <td>-2.233207e-01</td>\n",
       "      <td>-1.187414e-01</td>\n",
       "      <td>-3.136368e-02</td>\n",
       "      <td>-1.113368e-02</td>\n",
       "      <td>-1.567600e-02</td>\n",
       "      <td>-5.222125e-02</td>\n",
       "      <td>-5.714719e-02</td>\n",
       "      <td>-2.665964e-02</td>\n",
       "      <td>2.000000e+00</td>\n",
       "    </tr>\n",
       "    <tr>\n",
       "      <th>50%</th>\n",
       "      <td>9.570616e-01</td>\n",
       "      <td>-8.275427e-02</td>\n",
       "      <td>4.167499e-02</td>\n",
       "      <td>-7.346850e-04</td>\n",
       "      <td>7.445771e-04</td>\n",
       "      <td>1.527163e-04</td>\n",
       "      <td>-6.013321e-05</td>\n",
       "      <td>-7.037987e-04</td>\n",
       "      <td>5.741191e-04</td>\n",
       "      <td>4.000000e+00</td>\n",
       "    </tr>\n",
       "    <tr>\n",
       "      <th>75%</th>\n",
       "      <td>1.019457e+00</td>\n",
       "      <td>1.762589e-01</td>\n",
       "      <td>2.283584e-01</td>\n",
       "      <td>7.486018e-03</td>\n",
       "      <td>2.333138e-02</td>\n",
       "      <td>1.618820e-02</td>\n",
       "      <td>5.490499e-02</td>\n",
       "      <td>3.839570e-02</td>\n",
       "      <td>5.212627e-02</td>\n",
       "      <td>5.000000e+00</td>\n",
       "    </tr>\n",
       "    <tr>\n",
       "      <th>max</th>\n",
       "      <td>2.197618e+00</td>\n",
       "      <td>1.217350e+00</td>\n",
       "      <td>1.281363e+00</td>\n",
       "      <td>1.299912e+00</td>\n",
       "      <td>9.759764e-01</td>\n",
       "      <td>1.066916e+00</td>\n",
       "      <td>4.155473e+00</td>\n",
       "      <td>5.746062e+00</td>\n",
       "      <td>2.365982e+00</td>\n",
       "      <td>6.000000e+00</td>\n",
       "    </tr>\n",
       "  </tbody>\n",
       "</table>\n",
       "</div>"
      ],
      "text/plain": [
       "           Sensor 1      Sensor 2      Sensor 3      Sensor 4      Sensor 5  \\\n",
       "count  1.318272e+06  1.318272e+06  1.318272e+06  1.318272e+06  1.318272e+06   \n",
       "mean   8.083301e-01  2.177181e-02  8.483052e-02 -6.653325e-04 -3.175073e-04   \n",
       "std    4.119907e-01  3.972846e-01  3.442544e-01  1.918905e-01  1.219082e-01   \n",
       "min   -4.665558e-01 -1.588211e+00 -1.639609e+00 -1.232238e+00 -1.345267e+00   \n",
       "25%    6.833297e-01 -2.233207e-01 -1.187414e-01 -3.136368e-02 -1.113368e-02   \n",
       "50%    9.570616e-01 -8.275427e-02  4.167499e-02 -7.346850e-04  7.445771e-04   \n",
       "75%    1.019457e+00  1.762589e-01  2.283584e-01  7.486018e-03  2.333138e-02   \n",
       "max    2.197618e+00  1.217350e+00  1.281363e+00  1.299912e+00  9.759764e-01   \n",
       "\n",
       "           Sensor 6      Sensor 7      Sensor 8      Sensor 9          Mode  \n",
       "count  1.318272e+06  1.318272e+06  1.318272e+06  1.318272e+06  1.318272e+06  \n",
       "mean  -2.039500e-04 -3.411295e-03 -1.716060e-04  8.960282e-04  3.624624e+00  \n",
       "std    1.037597e-01  4.039425e-01  3.704799e-01  2.539519e-01  1.743611e+00  \n",
       "min   -1.364707e+00 -4.733656e+00 -5.974330e+00 -2.763014e+00  1.000000e+00  \n",
       "25%   -1.567600e-02 -5.222125e-02 -5.714719e-02 -2.665964e-02  2.000000e+00  \n",
       "50%    1.527163e-04 -6.013321e-05 -7.037987e-04  5.741191e-04  4.000000e+00  \n",
       "75%    1.618820e-02  5.490499e-02  3.839570e-02  5.212627e-02  5.000000e+00  \n",
       "max    1.066916e+00  4.155473e+00  5.746062e+00  2.365982e+00  6.000000e+00  "
      ]
     },
     "execution_count": 34,
     "metadata": {},
     "output_type": "execute_result"
    }
   ],
   "source": [
    "df.describe()"
   ]
  },
  {
   "cell_type": "code",
   "execution_count": 35,
   "id": "4fe17a45-7596-482c-ab7d-b49f91312fc6",
   "metadata": {},
   "outputs": [
    {
     "data": {
      "text/plain": [
       "<Axes: ylabel='Frequency'>"
      ]
     },
     "execution_count": 35,
     "metadata": {},
     "output_type": "execute_result"
    },
    {
     "data": {
      "image/png": "[encoded data removed]",
      "text/plain": [
       "<Figure size 640x480 with 1 Axes>"
      ]
     },
     "metadata": {},
     "output_type": "display_data"
    }
   ],
   "source": [
    "df['Mode'].plot.hist(bins=6)"
   ]
  },
  {
   "cell_type": "code",
   "execution_count": 36,
   "id": "d5e4b7a2-9e05-416e-973c-25e16882b180",
   "metadata": {},
   "outputs": [
    {
     "data": {
      "text/plain": [
       "Mode\n",
       "6.0    248832\n",
       "5.0    243968\n",
       "4.0    227456\n",
       "1.0    220416\n",
       "2.0    197632\n",
       "3.0    179968\n",
       "Name: count, dtype: int64"
      ]
     },
     "execution_count": 36,
     "metadata": {},
     "output_type": "execute_result"
    }
   ],
   "source": [
    "df['Mode'].value_counts()"
   ]
  },
  {
   "cell_type": "code",
   "execution_count": 37,
   "id": "5131b389-bf9c-47e1-a652-ca433957f4dd",
   "metadata": {},
   "outputs": [
    {
     "data": {
      "text/plain": [
       "array([5, 5, 5, ..., 2, 2, 2])"
      ]
     },
     "execution_count": 37,
     "metadata": {},
     "output_type": "execute_result"
    }
   ],
   "source": [
    "X = df.iloc[:, :9].values\n",
    "y = df['Mode'].values.astype(int)\n",
    "y"
   ]
  },
  {
   "cell_type": "code",
   "execution_count": 38,
   "id": "fb95b288-85d4-48b4-8f6e-4c78d6f7b035",
   "metadata": {},
   "outputs": [],
   "source": [
    "X = SelectKBest(k=7).fit_transform(X, y)"
   ]
  },
  {
   "cell_type": "code",
   "execution_count": 42,
   "id": "d197f26d-a16b-4eb7-a043-7d0ad2b06aef",
   "metadata": {},
   "outputs": [
    {
     "name": "stdout",
     "output_type": "stream",
     "text": [
      "(1054617, 7)\n",
      "(263655, 7)\n",
      "(1054617,)\n",
      "(263655,)\n"
     ]
    }
   ],
   "source": [
    "X_train, X_test, y_train, y_test = train_test_split(X, y, test_size = 0.2, random_state = 0, shuffle=True)\n",
    "print(X_train.shape)\n",
    "print(X_test.shape)\n",
    "print(y_train.shape)\n",
    "print(y_test.shape)"
   ]
  },
  {
   "cell_type": "code",
   "execution_count": 51,
   "id": "89280d1b-d65d-4f52-941d-3d6d33d32f3c",
   "metadata": {},
   "outputs": [
    {
     "data": {
      "text/html": [
       "<style>#sk-container-id-4 {color: black;}#sk-container-id-4 pre{padding: 0;}#sk-container-id-4 div.sk-toggleable {background-color: white;}#sk-container-id-4 label.sk-toggleable__label {cursor: pointer;display: block;width: 100%;margin-bottom: 0;padding: 0.3em;box-sizing: border-box;text-align: center;}#sk-container-id-4 label.sk-toggleable__label-arrow:before {content: \"▸\";float: left;margin-right: 0.25em;color: #696969;}#sk-container-id-4 label.sk-toggleable__label-arrow:hover:before {color: black;}#sk-container-id-4 div.sk-estimator:hover label.sk-toggleable__label-arrow:before {color: black;}#sk-container-id-4 div.sk-toggleable__content {max-height: 0;max-width: 0;overflow: hidden;text-align: left;background-color: #f0f8ff;}#sk-container-id-4 div.sk-toggleable__content pre {margin: 0.2em;color: black;border-radius: 0.25em;background-color: #f0f8ff;}#sk-container-id-4 input.sk-toggleable__control:checked~div.sk-toggleable__content {max-height: 200px;max-width: 100%;overflow: auto;}#sk-container-id-4 input.sk-toggleable__control:checked~label.sk-toggleable__label-arrow:before {content: \"▾\";}#sk-container-id-4 div.sk-estimator input.sk-toggleable__control:checked~label.sk-toggleable__label {background-color: #d4ebff;}#sk-container-id-4 div.sk-label input.sk-toggleable__control:checked~label.sk-toggleable__label {background-color: #d4ebff;}#sk-container-id-4 input.sk-hidden--visually {border: 0;clip: rect(1px 1px 1px 1px);clip: rect(1px, 1px, 1px, 1px);height: 1px;margin: -1px;overflow: hidden;padding: 0;position: absolute;width: 1px;}#sk-container-id-4 div.sk-estimator {font-family: monospace;background-color: #f0f8ff;border: 1px dotted black;border-radius: 0.25em;box-sizing: border-box;margin-bottom: 0.5em;}#sk-container-id-4 div.sk-estimator:hover {background-color: #d4ebff;}#sk-container-id-4 div.sk-parallel-item::after {content: \"\";width: 100%;border-bottom: 1px solid gray;flex-grow: 1;}#sk-container-id-4 div.sk-label:hover label.sk-toggleable__label {background-color: #d4ebff;}#sk-container-id-4 div.sk-serial::before {content: \"\";position: absolute;border-left: 1px solid gray;box-sizing: border-box;top: 0;bottom: 0;left: 50%;z-index: 0;}#sk-container-id-4 div.sk-serial {display: flex;flex-direction: column;align-items: center;background-color: white;padding-right: 0.2em;padding-left: 0.2em;position: relative;}#sk-container-id-4 div.sk-item {position: relative;z-index: 1;}#sk-container-id-4 div.sk-parallel {display: flex;align-items: stretch;justify-content: center;background-color: white;position: relative;}#sk-container-id-4 div.sk-item::before, #sk-container-id-4 div.sk-parallel-item::before {content: \"\";position: absolute;border-left: 1px solid gray;box-sizing: border-box;top: 0;bottom: 0;left: 50%;z-index: -1;}#sk-container-id-4 div.sk-parallel-item {display: flex;flex-direction: column;z-index: 1;position: relative;background-color: white;}#sk-container-id-4 div.sk-parallel-item:first-child::after {align-self: flex-end;width: 50%;}#sk-container-id-4 div.sk-parallel-item:last-child::after {align-self: flex-start;width: 50%;}#sk-container-id-4 div.sk-parallel-item:only-child::after {width: 0;}#sk-container-id-4 div.sk-dashed-wrapped {border: 1px dashed gray;margin: 0 0.4em 0.5em 0.4em;box-sizing: border-box;padding-bottom: 0.4em;background-color: white;}#sk-container-id-4 div.sk-label label {font-family: monospace;font-weight: bold;display: inline-block;line-height: 1.2em;}#sk-container-id-4 div.sk-label-container {text-align: center;}#sk-container-id-4 div.sk-container {/* jupyter's `normalize.less` sets `[hidden] { display: none; }` but bootstrap.min.css set `[hidden] { display: none !important; }` so we also need the `!important` here to be able to override the default hidden behavior on the sphinx rendered scikit-learn.org. See: https://github.com/scikit-learn/scikit-learn/issues/21755 */display: inline-block !important;position: relative;}#sk-container-id-4 div.sk-text-repr-fallback {display: none;}</style><div id=\"sk-container-id-4\" class=\"sk-top-container\"><div class=\"sk-text-repr-fallback\"><pre>DecisionTreeClassifier()</pre><b>In a Jupyter environment, please rerun this cell to show the HTML representation or trust the notebook. <br />On GitHub, the HTML representation is unable to render, please try loading this page with nbviewer.org.</b></div><div class=\"sk-container\" hidden><div class=\"sk-item\"><div class=\"sk-estimator sk-toggleable\"><input class=\"sk-toggleable__control sk-hidden--visually\" id=\"sk-estimator-id-4\" type=\"checkbox\" checked><label for=\"sk-estimator-id-4\" class=\"sk-toggleable__label sk-toggleable__label-arrow\">DecisionTreeClassifier</label><div class=\"sk-toggleable__content\"><pre>DecisionTreeClassifier()</pre></div></div></div></div></div>"
      ],
      "text/plain": [
       "DecisionTreeClassifier()"
      ]
     },
     "execution_count": 51,
     "metadata": {},
     "output_type": "execute_result"
    }
   ],
   "source": [
    "# Дерево решений\n",
    "classifier = DecisionTreeClassifier()\n",
    "classifier.fit(X_train, y_train)"
   ]
  },
  {
   "cell_type": "code",
   "execution_count": 44,
   "id": "6a2a7729-b39d-4b6e-8708-32e42220d2ec",
   "metadata": {},
   "outputs": [
    {
     "data": {
      "text/plain": [
       "array([2, 6, 5, ..., 5, 4, 6])"
      ]
     },
     "execution_count": 44,
     "metadata": {},
     "output_type": "execute_result"
    }
   ],
   "source": [
    "y_pred = classifier.predict(X_test)\n",
    "y_pred"
   ]
  },
  {
   "cell_type": "code",
   "execution_count": 47,
   "id": "1f4651d3-b6db-402c-a094-7c5b57398f85",
   "metadata": {},
   "outputs": [
    {
     "name": "stdout",
     "output_type": "stream",
     "text": [
      "Тренировочные: 1.0\n",
      "Тестовые: 0.9496918321291081\n",
      "(263655,)\n",
      "(263655,)\n",
      "[2 6 5 ... 5 4 6]\n",
      "[2 6 5 ... 5 4 6]\n"
     ]
    }
   ],
   "source": [
    "print('Тренировочные: {}'.format(classifier.score(X_train, y_train)))\n",
    "print('Тестовые: {}'.format(classifier.score(X_test, y_test)))\n",
    "print(y_pred.shape)\n",
    "print(y_test.shape)\n",
    "print(y_pred)\n",
    "print(y_test)"
   ]
  },
  {
   "cell_type": "code",
   "execution_count": 48,
   "id": "c4b19eae-d2b8-415f-95da-70ca42ff3b33",
   "metadata": {},
   "outputs": [
    {
     "name": "stdout",
     "output_type": "stream",
     "text": [
      "Точность: 0.9452606541685009\n",
      "Полнота: 0.9449169499829456\n",
      "ROC_AUC: 0.9674981916928332\n"
     ]
    }
   ],
   "source": [
    "precision = precision_score(y_test, y_pred, average='macro')\n",
    "recall = recall_score(y_test, y_pred, average='macro')\n",
    "roc_auc = roc_auc_score(y_test, classifier.predict_proba(X_test), multi_class='ovr')\n",
    "print('Точность: {}'.format(precision))\n",
    "print('Полнота: {}'.format(recall))\n",
    "print('ROC_AUC: {}'.format(roc_auc))"
   ]
  },
  {
   "cell_type": "code",
   "execution_count": 52,
   "id": "63cb1963-c8b2-478e-93da-3ce38e5e48af",
   "metadata": {},
   "outputs": [
    {
     "data": {
      "text/html": [
       "<style>#sk-container-id-5 {color: black;}#sk-container-id-5 pre{padding: 0;}#sk-container-id-5 div.sk-toggleable {background-color: white;}#sk-container-id-5 label.sk-toggleable__label {cursor: pointer;display: block;width: 100%;margin-bottom: 0;padding: 0.3em;box-sizing: border-box;text-align: center;}#sk-container-id-5 label.sk-toggleable__label-arrow:before {content: \"▸\";float: left;margin-right: 0.25em;color: #696969;}#sk-container-id-5 label.sk-toggleable__label-arrow:hover:before {color: black;}#sk-container-id-5 div.sk-estimator:hover label.sk-toggleable__label-arrow:before {color: black;}#sk-container-id-5 div.sk-toggleable__content {max-height: 0;max-width: 0;overflow: hidden;text-align: left;background-color: #f0f8ff;}#sk-container-id-5 div.sk-toggleable__content pre {margin: 0.2em;color: black;border-radius: 0.25em;background-color: #f0f8ff;}#sk-container-id-5 input.sk-toggleable__control:checked~div.sk-toggleable__content {max-height: 200px;max-width: 100%;overflow: auto;}#sk-container-id-5 input.sk-toggleable__control:checked~label.sk-toggleable__label-arrow:before {content: \"▾\";}#sk-container-id-5 div.sk-estimator input.sk-toggleable__control:checked~label.sk-toggleable__label {background-color: #d4ebff;}#sk-container-id-5 div.sk-label input.sk-toggleable__control:checked~label.sk-toggleable__label {background-color: #d4ebff;}#sk-container-id-5 input.sk-hidden--visually {border: 0;clip: rect(1px 1px 1px 1px);clip: rect(1px, 1px, 1px, 1px);height: 1px;margin: -1px;overflow: hidden;padding: 0;position: absolute;width: 1px;}#sk-container-id-5 div.sk-estimator {font-family: monospace;background-color: #f0f8ff;border: 1px dotted black;border-radius: 0.25em;box-sizing: border-box;margin-bottom: 0.5em;}#sk-container-id-5 div.sk-estimator:hover {background-color: #d4ebff;}#sk-container-id-5 div.sk-parallel-item::after {content: \"\";width: 100%;border-bottom: 1px solid gray;flex-grow: 1;}#sk-container-id-5 div.sk-label:hover label.sk-toggleable__label {background-color: #d4ebff;}#sk-container-id-5 div.sk-serial::before {content: \"\";position: absolute;border-left: 1px solid gray;box-sizing: border-box;top: 0;bottom: 0;left: 50%;z-index: 0;}#sk-container-id-5 div.sk-serial {display: flex;flex-direction: column;align-items: center;background-color: white;padding-right: 0.2em;padding-left: 0.2em;position: relative;}#sk-container-id-5 div.sk-item {position: relative;z-index: 1;}#sk-container-id-5 div.sk-parallel {display: flex;align-items: stretch;justify-content: center;background-color: white;position: relative;}#sk-container-id-5 div.sk-item::before, #sk-container-id-5 div.sk-parallel-item::before {content: \"\";position: absolute;border-left: 1px solid gray;box-sizing: border-box;top: 0;bottom: 0;left: 50%;z-index: -1;}#sk-container-id-5 div.sk-parallel-item {display: flex;flex-direction: column;z-index: 1;position: relative;background-color: white;}#sk-container-id-5 div.sk-parallel-item:first-child::after {align-self: flex-end;width: 50%;}#sk-container-id-5 div.sk-parallel-item:last-child::after {align-self: flex-start;width: 50%;}#sk-container-id-5 div.sk-parallel-item:only-child::after {width: 0;}#sk-container-id-5 div.sk-dashed-wrapped {border: 1px dashed gray;margin: 0 0.4em 0.5em 0.4em;box-sizing: border-box;padding-bottom: 0.4em;background-color: white;}#sk-container-id-5 div.sk-label label {font-family: monospace;font-weight: bold;display: inline-block;line-height: 1.2em;}#sk-container-id-5 div.sk-label-container {text-align: center;}#sk-container-id-5 div.sk-container {/* jupyter's `normalize.less` sets `[hidden] { display: none; }` but bootstrap.min.css set `[hidden] { display: none !important; }` so we also need the `!important` here to be able to override the default hidden behavior on the sphinx rendered scikit-learn.org. See: https://github.com/scikit-learn/scikit-learn/issues/21755 */display: inline-block !important;position: relative;}#sk-container-id-5 div.sk-text-repr-fallback {display: none;}</style><div id=\"sk-container-id-5\" class=\"sk-top-container\"><div class=\"sk-text-repr-fallback\"><pre>KNeighborsClassifier()</pre><b>In a Jupyter environment, please rerun this cell to show the HTML representation or trust the notebook. <br />On GitHub, the HTML representation is unable to render, please try loading this page with nbviewer.org.</b></div><div class=\"sk-container\" hidden><div class=\"sk-item\"><div class=\"sk-estimator sk-toggleable\"><input class=\"sk-toggleable__control sk-hidden--visually\" id=\"sk-estimator-id-5\" type=\"checkbox\" checked><label for=\"sk-estimator-id-5\" class=\"sk-toggleable__label sk-toggleable__label-arrow\">KNeighborsClassifier</label><div class=\"sk-toggleable__content\"><pre>KNeighborsClassifier()</pre></div></div></div></div></div>"
      ],
      "text/plain": [
       "KNeighborsClassifier()"
      ]
     },
     "execution_count": 52,
     "metadata": {},
     "output_type": "execute_result"
    }
   ],
   "source": [
    "# KNN\n",
    "classifier = KNeighborsClassifier()\n",
    "classifier.fit(X_train, y_train)"
   ]
  },
  {
   "cell_type": "code",
   "execution_count": 53,
   "id": "5180add9-a744-4ac9-8245-500fee79e35f",
   "metadata": {},
   "outputs": [
    {
     "data": {
      "text/plain": [
       "array([1, 6, 5, ..., 5, 4, 6])"
      ]
     },
     "execution_count": 53,
     "metadata": {},
     "output_type": "execute_result"
    }
   ],
   "source": [
    "y_pred = classifier.predict(X_test)\n",
    "y_pred"
   ]
  },
  {
   "cell_type": "code",
   "execution_count": 54,
   "id": "e60d7d65-5982-468e-b5c3-7f72dfbcc9b9",
   "metadata": {},
   "outputs": [
    {
     "name": "stdout",
     "output_type": "stream",
     "text": [
      "Тренировочные: 0.9295440904138659\n",
      "Тестовые: 0.8997705334622897\n",
      "(263655,)\n",
      "(263655,)\n",
      "[1 6 5 ... 5 4 6]\n",
      "[2 6 5 ... 5 4 6]\n"
     ]
    }
   ],
   "source": [
    "print('Тренировочные: {}'.format(classifier.score(X_train, y_train)))\n",
    "print('Тестовые: {}'.format(classifier.score(X_test, y_test)))\n",
    "print(y_pred.shape)\n",
    "print(y_test.shape)\n",
    "print(y_pred)\n",
    "print(y_test)"
   ]
  },
  {
   "cell_type": "code",
   "execution_count": 55,
   "id": "12f9f876-6d1e-42bf-b6de-72a33415a50b",
   "metadata": {},
   "outputs": [
    {
     "name": "stdout",
     "output_type": "stream",
     "text": [
      "Точность: 0.8932640081649897\n",
      "Полнота: 0.8879966197246012\n",
      "ROC_AUC: 0.9810189624457394\n"
     ]
    }
   ],
   "source": [
    "precision = precision_score(y_test, y_pred, average='macro')\n",
    "recall = recall_score(y_test, y_pred, average='macro')\n",
    "roc_auc = roc_auc_score(y_test, classifier.predict_proba(X_test), multi_class='ovr')\n",
    "print('Точность: {}'.format(precision))\n",
    "print('Полнота: {}'.format(recall))\n",
    "print('ROC_AUC: {}'.format(roc_auc))"
   ]
  },
  {
   "cell_type": "code",
   "execution_count": 56,
   "id": "f4ad1ed1-0be4-426a-bf64-dd9cfaa230dd",
   "metadata": {},
   "outputs": [
    {
     "data": {
      "text/html": [
       "<style>#sk-container-id-6 {color: black;}#sk-container-id-6 pre{padding: 0;}#sk-container-id-6 div.sk-toggleable {background-color: white;}#sk-container-id-6 label.sk-toggleable__label {cursor: pointer;display: block;width: 100%;margin-bottom: 0;padding: 0.3em;box-sizing: border-box;text-align: center;}#sk-container-id-6 label.sk-toggleable__label-arrow:before {content: \"▸\";float: left;margin-right: 0.25em;color: #696969;}#sk-container-id-6 label.sk-toggleable__label-arrow:hover:before {color: black;}#sk-container-id-6 div.sk-estimator:hover label.sk-toggleable__label-arrow:before {color: black;}#sk-container-id-6 div.sk-toggleable__content {max-height: 0;max-width: 0;overflow: hidden;text-align: left;background-color: #f0f8ff;}#sk-container-id-6 div.sk-toggleable__content pre {margin: 0.2em;color: black;border-radius: 0.25em;background-color: #f0f8ff;}#sk-container-id-6 input.sk-toggleable__control:checked~div.sk-toggleable__content {max-height: 200px;max-width: 100%;overflow: auto;}#sk-container-id-6 input.sk-toggleable__control:checked~label.sk-toggleable__label-arrow:before {content: \"▾\";}#sk-container-id-6 div.sk-estimator input.sk-toggleable__control:checked~label.sk-toggleable__label {background-color: #d4ebff;}#sk-container-id-6 div.sk-label input.sk-toggleable__control:checked~label.sk-toggleable__label {background-color: #d4ebff;}#sk-container-id-6 input.sk-hidden--visually {border: 0;clip: rect(1px 1px 1px 1px);clip: rect(1px, 1px, 1px, 1px);height: 1px;margin: -1px;overflow: hidden;padding: 0;position: absolute;width: 1px;}#sk-container-id-6 div.sk-estimator {font-family: monospace;background-color: #f0f8ff;border: 1px dotted black;border-radius: 0.25em;box-sizing: border-box;margin-bottom: 0.5em;}#sk-container-id-6 div.sk-estimator:hover {background-color: #d4ebff;}#sk-container-id-6 div.sk-parallel-item::after {content: \"\";width: 100%;border-bottom: 1px solid gray;flex-grow: 1;}#sk-container-id-6 div.sk-label:hover label.sk-toggleable__label {background-color: #d4ebff;}#sk-container-id-6 div.sk-serial::before {content: \"\";position: absolute;border-left: 1px solid gray;box-sizing: border-box;top: 0;bottom: 0;left: 50%;z-index: 0;}#sk-container-id-6 div.sk-serial {display: flex;flex-direction: column;align-items: center;background-color: white;padding-right: 0.2em;padding-left: 0.2em;position: relative;}#sk-container-id-6 div.sk-item {position: relative;z-index: 1;}#sk-container-id-6 div.sk-parallel {display: flex;align-items: stretch;justify-content: center;background-color: white;position: relative;}#sk-container-id-6 div.sk-item::before, #sk-container-id-6 div.sk-parallel-item::before {content: \"\";position: absolute;border-left: 1px solid gray;box-sizing: border-box;top: 0;bottom: 0;left: 50%;z-index: -1;}#sk-container-id-6 div.sk-parallel-item {display: flex;flex-direction: column;z-index: 1;position: relative;background-color: white;}#sk-container-id-6 div.sk-parallel-item:first-child::after {align-self: flex-end;width: 50%;}#sk-container-id-6 div.sk-parallel-item:last-child::after {align-self: flex-start;width: 50%;}#sk-container-id-6 div.sk-parallel-item:only-child::after {width: 0;}#sk-container-id-6 div.sk-dashed-wrapped {border: 1px dashed gray;margin: 0 0.4em 0.5em 0.4em;box-sizing: border-box;padding-bottom: 0.4em;background-color: white;}#sk-container-id-6 div.sk-label label {font-family: monospace;font-weight: bold;display: inline-block;line-height: 1.2em;}#sk-container-id-6 div.sk-label-container {text-align: center;}#sk-container-id-6 div.sk-container {/* jupyter's `normalize.less` sets `[hidden] { display: none; }` but bootstrap.min.css set `[hidden] { display: none !important; }` so we also need the `!important` here to be able to override the default hidden behavior on the sphinx rendered scikit-learn.org. See: https://github.com/scikit-learn/scikit-learn/issues/21755 */display: inline-block !important;position: relative;}#sk-container-id-6 div.sk-text-repr-fallback {display: none;}</style><div id=\"sk-container-id-6\" class=\"sk-top-container\"><div class=\"sk-text-repr-fallback\"><pre>GradientBoostingClassifier(learning_rate=1, max_depth=6, n_estimators=20,\n",
       "                           random_state=12)</pre><b>In a Jupyter environment, please rerun this cell to show the HTML representation or trust the notebook. <br />On GitHub, the HTML representation is unable to render, please try loading this page with nbviewer.org.</b></div><div class=\"sk-container\" hidden><div class=\"sk-item\"><div class=\"sk-estimator sk-toggleable\"><input class=\"sk-toggleable__control sk-hidden--visually\" id=\"sk-estimator-id-6\" type=\"checkbox\" checked><label for=\"sk-estimator-id-6\" class=\"sk-toggleable__label sk-toggleable__label-arrow\">GradientBoostingClassifier</label><div class=\"sk-toggleable__content\"><pre>GradientBoostingClassifier(learning_rate=1, max_depth=6, n_estimators=20,\n",
       "                           random_state=12)</pre></div></div></div></div></div>"
      ],
      "text/plain": [
       "GradientBoostingClassifier(learning_rate=1, max_depth=6, n_estimators=20,\n",
       "                           random_state=12)"
      ]
     },
     "execution_count": 56,
     "metadata": {},
     "output_type": "execute_result"
    }
   ],
   "source": [
    "# GradientBoostingClassifier\n",
    "classifier = GradientBoostingClassifier(max_depth=6, n_estimators=20,random_state=12, learning_rate=1)\n",
    "classifier.fit(X_train, y_train)"
   ]
  },
  {
   "cell_type": "code",
   "execution_count": 57,
   "id": "9622a595-e012-412f-bb26-6022e55df3c4",
   "metadata": {},
   "outputs": [
    {
     "data": {
      "text/plain": [
       "0.758677059035482"
      ]
     },
     "execution_count": 57,
     "metadata": {},
     "output_type": "execute_result"
    }
   ],
   "source": [
    "classifier.score(X_test, y_test)"
   ]
  },
  {
   "cell_type": "code",
   "execution_count": 58,
   "id": "44ffe045-1b81-4769-a207-66ec1d356c39",
   "metadata": {},
   "outputs": [
    {
     "data": {
      "text/plain": [
       "array([3, 6, 5, ..., 5, 4, 6])"
      ]
     },
     "execution_count": 58,
     "metadata": {},
     "output_type": "execute_result"
    }
   ],
   "source": [
    "y_pred = classifier.predict(X_test)\n",
    "y_pred"
   ]
  },
  {
   "cell_type": "code",
   "execution_count": 60,
   "id": "4eaf2d66-bae9-4022-8774-4ddc640b5ca9",
   "metadata": {},
   "outputs": [
    {
     "name": "stdout",
     "output_type": "stream",
     "text": [
      "Тренировочные: 0.7654266904478119\n",
      "Тестовые: 0.758677059035482\n",
      "(263655,)\n",
      "(263655,)\n",
      "[3 6 5 ... 5 4 6]\n",
      "[2 6 5 ... 5 4 6]\n"
     ]
    }
   ],
   "source": [
    "print('Тренировочные: {}'.format(classifier.score(X_train, y_train)))\n",
    "print('Тестовые: {}'.format(classifier.score(X_test, y_test)))\n",
    "print(y_pred.shape)\n",
    "print(y_test.shape)\n",
    "print(y_pred)\n",
    "print(y_test)"
   ]
  },
  {
   "cell_type": "code",
   "execution_count": 61,
   "id": "8f00ef2b-1b61-4b7f-b6e9-493eeba0b0af",
   "metadata": {},
   "outputs": [
    {
     "name": "stdout",
     "output_type": "stream",
     "text": [
      "Точность: 0.7392733501521406\n",
      "Полнота: 0.7419326147242038\n",
      "ROC_AUC: 0.860345513106329\n"
     ]
    }
   ],
   "source": [
    "precision = precision_score(y_test, y_pred, average='macro')\n",
    "recall = recall_score(y_test, y_pred, average='macro')\n",
    "roc_auc = roc_auc_score(y_test, classifier.predict_proba(X_test), multi_class='ovr')\n",
    "print('Точность: {}'.format(precision))\n",
    "print('Полнота: {}'.format(recall))\n",
    "print('ROC_AUC: {}'.format(roc_auc))"
   ]
  }
 ],
 "metadata": {
  "kernelspec": {
   "display_name": "Python 3 (ipykernel)",
   "language": "python",
   "name": "python3"
  },
  "language_info": {
   "codemirror_mode": {
    "name": "ipython",
    "version": 3
   },
   "file_extension": ".py",
   "mimetype": "text/x-python",
   "name": "python",
   "nbconvert_exporter": "python",
   "pygments_lexer": "ipython3",
   "version": "3.12.0"
  }
 },
 "nbformat": 4,
 "nbformat_minor": 5
}
